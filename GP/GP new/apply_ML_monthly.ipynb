{
 "cells": [
  {
   "cell_type": "code",
   "execution_count": 1,
   "metadata": {},
   "outputs": [],
   "source": [
    "import warnings\n",
    "import numpy as np\n",
    "import pandas as pd\n",
    "import plotly.express as px\n",
    "from sklearn.preprocessing import StandardScaler\n",
    "from sklearn.ensemble import RandomForestRegressor\n",
    "from sklearn.linear_model import LinearRegression\n",
    "from sklearn.metrics import mean_squared_error, mean_absolute_error\n",
    "from sklearn.model_selection import cross_val_score\n",
    "from sklearn.model_selection import KFold\n",
    "import statsmodels.api as sm\n",
    "\n",
    "pd.options.display.width = None\n",
    "warnings.filterwarnings('ignore')\n",
    "pd.options.display.max_rows = None\n",
    "pd.set_option('display.float_format', lambda x: '%.5f' % x)  # format numeric outputs"
   ]
  },
  {
   "cell_type": "code",
   "execution_count": 2,
   "metadata": {},
   "outputs": [],
   "source": [
    "def generate_date_range(date_scaler, start_date, periods_num):\n",
    "\n",
    "    dates = pd.date_range(start = start_date, periods=periods_num, freq='1M')\n",
    "    dates = pd.to_numeric(dates)\n",
    "    dates = date_scaler.transform(np.array(dates).reshape(-1,1))\n",
    "\n",
    "    return dates\n",
    "  "
   ]
  },
  {
   "cell_type": "code",
   "execution_count": 3,
   "metadata": {},
   "outputs": [],
   "source": [
    "def get_date_range(start_date, periods_num):\n",
    "\n",
    "    dates = pd.date_range(start = start_date, periods=periods_num, freq='1M')\n",
    "    dates = pd.to_datetime(dates)\n",
    "\n",
    "    return dates"
   ]
  },
  {
   "cell_type": "code",
   "execution_count": 4,
   "metadata": {},
   "outputs": [],
   "source": [
    "df = pd.read_csv('monthly data.csv')\n",
    "df['order_date'] = pd.to_datetime(df['order_date'])"
   ]
  },
  {
   "cell_type": "code",
   "execution_count": 5,
   "metadata": {},
   "outputs": [
    {
     "data": {
      "text/html": [
       "<div>\n",
       "<style scoped>\n",
       "    .dataframe tbody tr th:only-of-type {\n",
       "        vertical-align: middle;\n",
       "    }\n",
       "\n",
       "    .dataframe tbody tr th {\n",
       "        vertical-align: top;\n",
       "    }\n",
       "\n",
       "    .dataframe thead th {\n",
       "        text-align: right;\n",
       "    }\n",
       "</style>\n",
       "<table border=\"1\" class=\"dataframe\">\n",
       "  <thead>\n",
       "    <tr style=\"text-align: right;\">\n",
       "      <th></th>\n",
       "      <th>order_date</th>\n",
       "      <th>product_id</th>\n",
       "      <th>quantities_sold</th>\n",
       "    </tr>\n",
       "  </thead>\n",
       "  <tbody>\n",
       "    <tr>\n",
       "      <th>0</th>\n",
       "      <td>2019-09-30</td>\n",
       "      <td>8</td>\n",
       "      <td>11.00000</td>\n",
       "    </tr>\n",
       "    <tr>\n",
       "      <th>1</th>\n",
       "      <td>2019-10-31</td>\n",
       "      <td>8</td>\n",
       "      <td>62.00000</td>\n",
       "    </tr>\n",
       "    <tr>\n",
       "      <th>2</th>\n",
       "      <td>2019-11-30</td>\n",
       "      <td>8</td>\n",
       "      <td>151.00000</td>\n",
       "    </tr>\n",
       "    <tr>\n",
       "      <th>3</th>\n",
       "      <td>2019-12-31</td>\n",
       "      <td>8</td>\n",
       "      <td>588.00000</td>\n",
       "    </tr>\n",
       "    <tr>\n",
       "      <th>4</th>\n",
       "      <td>2020-01-31</td>\n",
       "      <td>8</td>\n",
       "      <td>719.00000</td>\n",
       "    </tr>\n",
       "  </tbody>\n",
       "</table>\n",
       "</div>"
      ],
      "text/plain": [
       "  order_date  product_id  quantities_sold\n",
       "0 2019-09-30           8         11.00000\n",
       "1 2019-10-31           8         62.00000\n",
       "2 2019-11-30           8        151.00000\n",
       "3 2019-12-31           8        588.00000\n",
       "4 2020-01-31           8        719.00000"
      ]
     },
     "execution_count": 5,
     "metadata": {},
     "output_type": "execute_result"
    }
   ],
   "source": [
    "frames = list()\n",
    "\n",
    "for i in df['product_id'].unique():\n",
    "    frame = df[df['product_id'] == i]\n",
    "    frame = frame.sort_values(by='order_date')\n",
    "    frames.append(frame)\n",
    "\n",
    "df = pd.concat(frames, ignore_index=True)\n",
    "df.head()"
   ]
  },
  {
   "cell_type": "code",
   "execution_count": 6,
   "metadata": {},
   "outputs": [
    {
     "name": "stdout",
     "output_type": "stream",
     "text": [
      "Number of products = 844 products\n"
     ]
    }
   ],
   "source": [
    "print('Number of products = {} products'.format(len(df['product_id'].unique())))"
   ]
  },
  {
   "cell_type": "code",
   "execution_count": 7,
   "metadata": {},
   "outputs": [
    {
     "name": "stdout",
     "output_type": "stream",
     "text": [
      "Size of data frame = 22296 records\n"
     ]
    }
   ],
   "source": [
    "print('Size of data frame = {} records'.format(len(df)))"
   ]
  },
  {
   "cell_type": "markdown",
   "metadata": {},
   "source": [
    "# Calculate correlation with date"
   ]
  },
  {
   "cell_type": "code",
   "execution_count": 8,
   "metadata": {},
   "outputs": [],
   "source": [
    "cor_list = list()\n",
    "list_cor = list()\n",
    "for i in df['product_id'].unique():\n",
    "    info = dict()\n",
    "    temp_f = df[df['product_id'] == i]\n",
    "\n",
    "    temp_f['date'] = pd.to_datetime(temp_f['order_date'])\n",
    "    temp_f['date'] = pd.to_numeric(temp_f['date'])\n",
    "    temp_f['target'] = temp_f['quantities_sold']\n",
    "\n",
    "    temp_f.drop(['order_date', 'product_id', 'quantities_sold'], axis=1, inplace=True)\n",
    "    cor = temp_f.corr()\n",
    "\n",
    "    info['product_id'] = [i]\n",
    "    info['correlation with date'] = ['{:.2f}'.format(cor['date'][1])]\n",
    "    \n",
    "    if np.abs(cor['date'][1]) < 0.50:\n",
    "        df.drop(df[df['product_id'] == i].index, inplace=True)\n",
    "        \n",
    "    list_cor.append(cor['date'][1])\n",
    "    cor_list.append(pd.DataFrame(info))\n",
    "pd.concat(cor_list, ignore_index=True).to_csv('correlation with date monthly.csv', index=False)"
   ]
  },
  {
   "cell_type": "markdown",
   "metadata": {},
   "source": [
    "* We will ignore products that have correlation less then 0.50\n",
    "* So, the number of products will decrease as there are prodcts have correlation less than 0.20"
   ]
  },
  {
   "cell_type": "code",
   "execution_count": 9,
   "metadata": {},
   "outputs": [],
   "source": [
    "df['order_date'] = pd.to_numeric(df['order_date'])"
   ]
  },
  {
   "cell_type": "code",
   "execution_count": 10,
   "metadata": {},
   "outputs": [
    {
     "data": {
      "text/plain": [
       "StandardScaler()"
      ]
     },
     "execution_count": 10,
     "metadata": {},
     "output_type": "execute_result"
    }
   ],
   "source": [
    "sc1 = StandardScaler()\n",
    "sc2 = StandardScaler()\n",
    "\n",
    "sc1.fit(np.array(df['order_date']).reshape(-1, 1))\n",
    "sc2.fit(np.array(df['quantities_sold']).reshape(-1, 1))"
   ]
  },
  {
   "cell_type": "code",
   "execution_count": 11,
   "metadata": {},
   "outputs": [
    {
     "name": "stdout",
     "output_type": "stream",
     "text": [
      "Number of products have correlation greater than or equal 0.50 = 625 products\n"
     ]
    }
   ],
   "source": [
    "print('Number of products have correlation greater than or equal 0.50 = {} products'.format(len(df['product_id'].unique())))"
   ]
  },
  {
   "cell_type": "code",
   "execution_count": 12,
   "metadata": {},
   "outputs": [
    {
     "name": "stdout",
     "output_type": "stream",
     "text": [
      "Size of data frame after cancelling products with no crrelation = 16698 records\n"
     ]
    }
   ],
   "source": [
    "print('Size of data frame after cancelling products with no crrelation = {} records'.format(len(df)))"
   ]
  },
  {
   "cell_type": "code",
   "execution_count": null,
   "metadata": {},
   "outputs": [],
   "source": [
    "fig = px.histogram(list_cor, nbins=20,title='Products correlation with date', text_auto=True)\n",
    "fig.update_layout(bargap=0.4)\n",
    "fig.update_xaxes(title_text='Correlation')\n",
    "fig.update_yaxes(title_text='Count')\n",
    "fig.show()"
   ]
  },
  {
   "cell_type": "markdown",
   "metadata": {},
   "source": [
    "# Take 2 months from from each prodct to be used in testing"
   ]
  },
  {
   "cell_type": "code",
   "execution_count": 14,
   "metadata": {},
   "outputs": [],
   "source": [
    "test_set = pd.DataFrame()\n",
    "frames = list()\n",
    "\n",
    "for i in df['product_id'].unique():\n",
    "    frame = df[df['product_id'] == i]\n",
    "    test_set = pd.concat([test_set, frame.tail(2)], ignore_index=True)\n",
    "    frame.drop(frame.tail(2).index, inplace=True)\n",
    "    frames.append(frame)\n",
    "\n",
    "df = pd.concat(frames, ignore_index=True)"
   ]
  },
  {
   "cell_type": "code",
   "execution_count": 15,
   "metadata": {},
   "outputs": [
    {
     "data": {
      "text/plain": [
       "(15448, 1250)"
      ]
     },
     "execution_count": 15,
     "metadata": {},
     "output_type": "execute_result"
    }
   ],
   "source": [
    "len(df), len(test_set)"
   ]
  },
  {
   "cell_type": "code",
   "execution_count": 16,
   "metadata": {},
   "outputs": [
    {
     "data": {
      "text/html": [
       "<div>\n",
       "<style scoped>\n",
       "    .dataframe tbody tr th:only-of-type {\n",
       "        vertical-align: middle;\n",
       "    }\n",
       "\n",
       "    .dataframe tbody tr th {\n",
       "        vertical-align: top;\n",
       "    }\n",
       "\n",
       "    .dataframe thead th {\n",
       "        text-align: right;\n",
       "    }\n",
       "</style>\n",
       "<table border=\"1\" class=\"dataframe\">\n",
       "  <thead>\n",
       "    <tr style=\"text-align: right;\">\n",
       "      <th></th>\n",
       "      <th>order_date</th>\n",
       "      <th>10</th>\n",
       "      <th>11</th>\n",
       "      <th>12</th>\n",
       "      <th>13</th>\n",
       "      <th>14</th>\n",
       "      <th>15</th>\n",
       "      <th>16</th>\n",
       "      <th>19</th>\n",
       "      <th>22</th>\n",
       "      <th>...</th>\n",
       "      <th>4383</th>\n",
       "      <th>4391</th>\n",
       "      <th>4394</th>\n",
       "      <th>4395</th>\n",
       "      <th>4396</th>\n",
       "      <th>4398</th>\n",
       "      <th>4407</th>\n",
       "      <th>4409</th>\n",
       "      <th>4415</th>\n",
       "      <th>target</th>\n",
       "    </tr>\n",
       "  </thead>\n",
       "  <tbody>\n",
       "    <tr>\n",
       "      <th>0</th>\n",
       "      <td>-1.78375</td>\n",
       "      <td>0</td>\n",
       "      <td>0</td>\n",
       "      <td>0</td>\n",
       "      <td>0</td>\n",
       "      <td>0</td>\n",
       "      <td>0</td>\n",
       "      <td>0</td>\n",
       "      <td>0</td>\n",
       "      <td>0</td>\n",
       "      <td>...</td>\n",
       "      <td>0</td>\n",
       "      <td>0</td>\n",
       "      <td>0</td>\n",
       "      <td>0</td>\n",
       "      <td>0</td>\n",
       "      <td>0</td>\n",
       "      <td>0</td>\n",
       "      <td>0</td>\n",
       "      <td>0</td>\n",
       "      <td>-0.30311</td>\n",
       "    </tr>\n",
       "    <tr>\n",
       "      <th>1</th>\n",
       "      <td>-1.65335</td>\n",
       "      <td>0</td>\n",
       "      <td>0</td>\n",
       "      <td>0</td>\n",
       "      <td>0</td>\n",
       "      <td>0</td>\n",
       "      <td>0</td>\n",
       "      <td>0</td>\n",
       "      <td>0</td>\n",
       "      <td>0</td>\n",
       "      <td>...</td>\n",
       "      <td>0</td>\n",
       "      <td>0</td>\n",
       "      <td>0</td>\n",
       "      <td>0</td>\n",
       "      <td>0</td>\n",
       "      <td>0</td>\n",
       "      <td>0</td>\n",
       "      <td>0</td>\n",
       "      <td>0</td>\n",
       "      <td>-0.25943</td>\n",
       "    </tr>\n",
       "    <tr>\n",
       "      <th>2</th>\n",
       "      <td>-1.52716</td>\n",
       "      <td>0</td>\n",
       "      <td>0</td>\n",
       "      <td>0</td>\n",
       "      <td>0</td>\n",
       "      <td>0</td>\n",
       "      <td>0</td>\n",
       "      <td>0</td>\n",
       "      <td>0</td>\n",
       "      <td>0</td>\n",
       "      <td>...</td>\n",
       "      <td>0</td>\n",
       "      <td>0</td>\n",
       "      <td>0</td>\n",
       "      <td>0</td>\n",
       "      <td>0</td>\n",
       "      <td>0</td>\n",
       "      <td>0</td>\n",
       "      <td>0</td>\n",
       "      <td>0</td>\n",
       "      <td>-0.18321</td>\n",
       "    </tr>\n",
       "    <tr>\n",
       "      <th>3</th>\n",
       "      <td>-1.39676</td>\n",
       "      <td>0</td>\n",
       "      <td>0</td>\n",
       "      <td>0</td>\n",
       "      <td>0</td>\n",
       "      <td>0</td>\n",
       "      <td>0</td>\n",
       "      <td>0</td>\n",
       "      <td>0</td>\n",
       "      <td>0</td>\n",
       "      <td>...</td>\n",
       "      <td>0</td>\n",
       "      <td>0</td>\n",
       "      <td>0</td>\n",
       "      <td>0</td>\n",
       "      <td>0</td>\n",
       "      <td>0</td>\n",
       "      <td>0</td>\n",
       "      <td>0</td>\n",
       "      <td>0</td>\n",
       "      <td>0.19105</td>\n",
       "    </tr>\n",
       "    <tr>\n",
       "      <th>4</th>\n",
       "      <td>-1.26636</td>\n",
       "      <td>0</td>\n",
       "      <td>0</td>\n",
       "      <td>0</td>\n",
       "      <td>0</td>\n",
       "      <td>0</td>\n",
       "      <td>0</td>\n",
       "      <td>0</td>\n",
       "      <td>0</td>\n",
       "      <td>0</td>\n",
       "      <td>...</td>\n",
       "      <td>0</td>\n",
       "      <td>0</td>\n",
       "      <td>0</td>\n",
       "      <td>0</td>\n",
       "      <td>0</td>\n",
       "      <td>0</td>\n",
       "      <td>0</td>\n",
       "      <td>0</td>\n",
       "      <td>0</td>\n",
       "      <td>0.30325</td>\n",
       "    </tr>\n",
       "  </tbody>\n",
       "</table>\n",
       "<p>5 rows × 626 columns</p>\n",
       "</div>"
      ],
      "text/plain": [
       "   order_date  10  11  12  13  14  15  16  19  22  ...  4383  4391  4394  \\\n",
       "0    -1.78375   0   0   0   0   0   0   0   0   0  ...     0     0     0   \n",
       "1    -1.65335   0   0   0   0   0   0   0   0   0  ...     0     0     0   \n",
       "2    -1.52716   0   0   0   0   0   0   0   0   0  ...     0     0     0   \n",
       "3    -1.39676   0   0   0   0   0   0   0   0   0  ...     0     0     0   \n",
       "4    -1.26636   0   0   0   0   0   0   0   0   0  ...     0     0     0   \n",
       "\n",
       "   4395  4396  4398  4407  4409  4415   target  \n",
       "0     0     0     0     0     0     0 -0.30311  \n",
       "1     0     0     0     0     0     0 -0.25943  \n",
       "2     0     0     0     0     0     0 -0.18321  \n",
       "3     0     0     0     0     0     0  0.19105  \n",
       "4     0     0     0     0     0     0  0.30325  \n",
       "\n",
       "[5 rows x 626 columns]"
      ]
     },
     "execution_count": 16,
     "metadata": {},
     "output_type": "execute_result"
    }
   ],
   "source": [
    "temp = sc1.transform(np.array(df['order_date']).reshape(-1,1))\n",
    "temp = pd.DataFrame(temp)\n",
    "temp.rename(columns={0:'order_date'}, inplace=True)\n",
    "\n",
    "dummy1 = pd.get_dummies(df['product_id'])\n",
    "dummy1.drop(8, axis=1, inplace=True)\n",
    "\n",
    "new_df = pd.DataFrame()\n",
    "new_df = pd.concat([new_df, temp, dummy1], axis=1)\n",
    "\n",
    "new_df['target'] = sc2.transform(np.array(df['quantities_sold']).reshape(-1,1)) \n",
    "new_df.head()\n"
   ]
  },
  {
   "cell_type": "code",
   "execution_count": 17,
   "metadata": {},
   "outputs": [
    {
     "data": {
      "text/html": [
       "<div>\n",
       "<style scoped>\n",
       "    .dataframe tbody tr th:only-of-type {\n",
       "        vertical-align: middle;\n",
       "    }\n",
       "\n",
       "    .dataframe tbody tr th {\n",
       "        vertical-align: top;\n",
       "    }\n",
       "\n",
       "    .dataframe thead th {\n",
       "        text-align: right;\n",
       "    }\n",
       "</style>\n",
       "<table border=\"1\" class=\"dataframe\">\n",
       "  <thead>\n",
       "    <tr style=\"text-align: right;\">\n",
       "      <th></th>\n",
       "      <th>order_date</th>\n",
       "      <th>10</th>\n",
       "      <th>11</th>\n",
       "      <th>12</th>\n",
       "      <th>13</th>\n",
       "      <th>14</th>\n",
       "      <th>15</th>\n",
       "      <th>16</th>\n",
       "      <th>19</th>\n",
       "      <th>22</th>\n",
       "      <th>...</th>\n",
       "      <th>4383</th>\n",
       "      <th>4391</th>\n",
       "      <th>4394</th>\n",
       "      <th>4395</th>\n",
       "      <th>4396</th>\n",
       "      <th>4398</th>\n",
       "      <th>4407</th>\n",
       "      <th>4409</th>\n",
       "      <th>4415</th>\n",
       "      <th>target</th>\n",
       "    </tr>\n",
       "  </thead>\n",
       "  <tbody>\n",
       "    <tr>\n",
       "      <th>0</th>\n",
       "      <td>1.54776</td>\n",
       "      <td>0</td>\n",
       "      <td>0</td>\n",
       "      <td>0</td>\n",
       "      <td>0</td>\n",
       "      <td>0</td>\n",
       "      <td>0</td>\n",
       "      <td>0</td>\n",
       "      <td>0</td>\n",
       "      <td>0</td>\n",
       "      <td>...</td>\n",
       "      <td>0</td>\n",
       "      <td>0</td>\n",
       "      <td>0</td>\n",
       "      <td>0</td>\n",
       "      <td>0</td>\n",
       "      <td>0</td>\n",
       "      <td>0</td>\n",
       "      <td>0</td>\n",
       "      <td>0</td>\n",
       "      <td>6.54836</td>\n",
       "    </tr>\n",
       "    <tr>\n",
       "      <th>1</th>\n",
       "      <td>1.67816</td>\n",
       "      <td>0</td>\n",
       "      <td>0</td>\n",
       "      <td>0</td>\n",
       "      <td>0</td>\n",
       "      <td>0</td>\n",
       "      <td>0</td>\n",
       "      <td>0</td>\n",
       "      <td>0</td>\n",
       "      <td>0</td>\n",
       "      <td>...</td>\n",
       "      <td>0</td>\n",
       "      <td>0</td>\n",
       "      <td>0</td>\n",
       "      <td>0</td>\n",
       "      <td>0</td>\n",
       "      <td>0</td>\n",
       "      <td>0</td>\n",
       "      <td>0</td>\n",
       "      <td>0</td>\n",
       "      <td>3.10036</td>\n",
       "    </tr>\n",
       "    <tr>\n",
       "      <th>2</th>\n",
       "      <td>1.54776</td>\n",
       "      <td>1</td>\n",
       "      <td>0</td>\n",
       "      <td>0</td>\n",
       "      <td>0</td>\n",
       "      <td>0</td>\n",
       "      <td>0</td>\n",
       "      <td>0</td>\n",
       "      <td>0</td>\n",
       "      <td>0</td>\n",
       "      <td>...</td>\n",
       "      <td>0</td>\n",
       "      <td>0</td>\n",
       "      <td>0</td>\n",
       "      <td>0</td>\n",
       "      <td>0</td>\n",
       "      <td>0</td>\n",
       "      <td>0</td>\n",
       "      <td>0</td>\n",
       "      <td>0</td>\n",
       "      <td>0.14481</td>\n",
       "    </tr>\n",
       "    <tr>\n",
       "      <th>3</th>\n",
       "      <td>1.67816</td>\n",
       "      <td>1</td>\n",
       "      <td>0</td>\n",
       "      <td>0</td>\n",
       "      <td>0</td>\n",
       "      <td>0</td>\n",
       "      <td>0</td>\n",
       "      <td>0</td>\n",
       "      <td>0</td>\n",
       "      <td>0</td>\n",
       "      <td>...</td>\n",
       "      <td>0</td>\n",
       "      <td>0</td>\n",
       "      <td>0</td>\n",
       "      <td>0</td>\n",
       "      <td>0</td>\n",
       "      <td>0</td>\n",
       "      <td>0</td>\n",
       "      <td>0</td>\n",
       "      <td>0</td>\n",
       "      <td>-0.08300</td>\n",
       "    </tr>\n",
       "    <tr>\n",
       "      <th>4</th>\n",
       "      <td>1.54776</td>\n",
       "      <td>0</td>\n",
       "      <td>1</td>\n",
       "      <td>0</td>\n",
       "      <td>0</td>\n",
       "      <td>0</td>\n",
       "      <td>0</td>\n",
       "      <td>0</td>\n",
       "      <td>0</td>\n",
       "      <td>0</td>\n",
       "      <td>...</td>\n",
       "      <td>0</td>\n",
       "      <td>0</td>\n",
       "      <td>0</td>\n",
       "      <td>0</td>\n",
       "      <td>0</td>\n",
       "      <td>0</td>\n",
       "      <td>0</td>\n",
       "      <td>0</td>\n",
       "      <td>0</td>\n",
       "      <td>-0.09414</td>\n",
       "    </tr>\n",
       "  </tbody>\n",
       "</table>\n",
       "<p>5 rows × 626 columns</p>\n",
       "</div>"
      ],
      "text/plain": [
       "   order_date  10  11  12  13  14  15  16  19  22  ...  4383  4391  4394  \\\n",
       "0     1.54776   0   0   0   0   0   0   0   0   0  ...     0     0     0   \n",
       "1     1.67816   0   0   0   0   0   0   0   0   0  ...     0     0     0   \n",
       "2     1.54776   1   0   0   0   0   0   0   0   0  ...     0     0     0   \n",
       "3     1.67816   1   0   0   0   0   0   0   0   0  ...     0     0     0   \n",
       "4     1.54776   0   1   0   0   0   0   0   0   0  ...     0     0     0   \n",
       "\n",
       "   4395  4396  4398  4407  4409  4415   target  \n",
       "0     0     0     0     0     0     0  6.54836  \n",
       "1     0     0     0     0     0     0  3.10036  \n",
       "2     0     0     0     0     0     0  0.14481  \n",
       "3     0     0     0     0     0     0 -0.08300  \n",
       "4     0     0     0     0     0     0 -0.09414  \n",
       "\n",
       "[5 rows x 626 columns]"
      ]
     },
     "execution_count": 17,
     "metadata": {},
     "output_type": "execute_result"
    }
   ],
   "source": [
    "temp = sc1.transform(np.array(test_set['order_date']).reshape(-1, 1))\n",
    "temp = pd.DataFrame(temp)\n",
    "temp.rename(columns={0:'order_date'}, inplace=True)\n",
    "\n",
    "dummy1 = pd.get_dummies(test_set['product_id'])\n",
    "dummy1.drop(8, axis=1,inplace=True)\n",
    "\n",
    "new_test_set = pd.DataFrame()\n",
    "new_test_set = pd.concat([new_test_set, temp, dummy1], axis=1)\n",
    "new_test_set['target'] = sc2.transform(np.array(test_set['quantities_sold']).reshape(-1,1))\n",
    "\n",
    "new_test_set.head()"
   ]
  },
  {
   "cell_type": "code",
   "execution_count": 18,
   "metadata": {},
   "outputs": [
    {
     "data": {
      "text/plain": [
       "(15448, 1250, 15448, 1250)"
      ]
     },
     "execution_count": 18,
     "metadata": {},
     "output_type": "execute_result"
    }
   ],
   "source": [
    "X_train = new_df.drop('target', axis=1)\n",
    "y_train = new_df['target']\n",
    "\n",
    "X_test = new_test_set.drop('target', axis=1)\n",
    "y_test = new_test_set['target']\n",
    "\n",
    "len(X_train), len(X_test), len(y_train), len(y_test)"
   ]
  },
  {
   "cell_type": "markdown",
   "metadata": {},
   "source": [
    "# Fitting RandomForestRegressor"
   ]
  },
  {
   "cell_type": "code",
   "execution_count": 19,
   "metadata": {},
   "outputs": [
    {
     "data": {
      "text/plain": [
       "RandomForestRegressor(n_estimators=150, n_jobs=-1, random_state=42)"
      ]
     },
     "execution_count": 19,
     "metadata": {},
     "output_type": "execute_result"
    }
   ],
   "source": [
    "regressor = RandomForestRegressor(n_estimators=150, n_jobs=-1, random_state=42)\n",
    "regressor.fit(X_train, y_train)"
   ]
  },
  {
   "cell_type": "code",
   "execution_count": 20,
   "metadata": {},
   "outputs": [
    {
     "data": {
      "text/plain": [
       "0.7505713314071936"
      ]
     },
     "execution_count": 20,
     "metadata": {},
     "output_type": "execute_result"
    }
   ],
   "source": [
    "regressor.score(X_train, y_train)"
   ]
  },
  {
   "cell_type": "code",
   "execution_count": 21,
   "metadata": {},
   "outputs": [
    {
     "data": {
      "text/plain": [
       "(1.4712745638715947, 3.1321502417147307)"
      ]
     },
     "execution_count": 21,
     "metadata": {},
     "output_type": "execute_result"
    }
   ],
   "source": [
    "y_pred = regressor.predict(X_test)\n",
    "mean_absolute_error(y_test, y_pred), mean_squared_error(y_test, y_pred)"
   ]
  },
  {
   "cell_type": "code",
   "execution_count": 22,
   "metadata": {},
   "outputs": [
    {
     "name": "stdout",
     "output_type": "stream",
     "text": [
      "MAE = 2082.8275909471918\n",
      "MSE = 4022.1218874022843\n"
     ]
    }
   ],
   "source": [
    "MAE = sc2.inverse_transform(np.array(mean_absolute_error(y_test, y_pred)).reshape(1, -1))[0][0]\n",
    "MSE = sc2.inverse_transform(np.array(mean_squared_error(y_test, y_pred)).reshape(1, -1))[0][0]\n",
    "\n",
    "print('MAE = {}\\nMSE = {}'.format(MAE, MSE))"
   ]
  },
  {
   "cell_type": "code",
   "execution_count": null,
   "metadata": {},
   "outputs": [],
   "source": [
    "error = sc2.inverse_transform(np.array(y_test - y_pred).reshape(1,-1))\n",
    "temp = list()\n",
    "for i in error:\n",
    "    for j in i:\n",
    "        temp.append(j)\n",
    "\n",
    "error = temp\n",
    "\n",
    "fig = px.histogram(error, nbins=20,title='Monthly error (Random forest regression) test size ' + str(len(X_test)) + ' records',\n",
    "                    text_auto=True)\n",
    "fig.update_layout(bargap=0.4)\n",
    "fig.update_xaxes(title_text='Error')\n",
    "fig.update_yaxes(title_text='Count')\n",
    "fig.show()"
   ]
  },
  {
   "cell_type": "code",
   "execution_count": 28,
   "metadata": {},
   "outputs": [],
   "source": [
    "def predict_function(model, scaler1, scaler2, product_id):\n",
    "    frame = pd.read_csv(\"monthly data.csv\")\n",
    "    p_frame = frame[frame['product_id'] == product_id]\n",
    "    p_frame['order_date'] = pd.to_datetime(p_frame['order_date'])\n",
    "    p_frame = p_frame.sort_values(by='order_date')\n",
    "\n",
    "    date = generate_date_range(scaler1, p_frame['order_date'].iloc[0], len(p_frame)+2)\n",
    "    p_id = product_id\n",
    "\n",
    "    if p_id not in list(X_train.columns) and p_id != 8:\n",
    "        print('Product is not found')\n",
    "    else:\n",
    "        row = list()\n",
    "        predicted_values = list()\n",
    "        for j in date:\n",
    "            row.append(j)\n",
    "            for i in X_train.columns:\n",
    "                if i == p_id:\n",
    "                    row.append(1)\n",
    "                elif str(i).isnumeric():\n",
    "                    row.append(0)\n",
    "                    \n",
    "            arr = np.array(row).reshape(1, -1)\n",
    "            predicted_values.append(scaler2.inverse_transform(np.array(model.predict(arr)[0]).reshape(1, -1))[0][0])\n",
    "            row.clear()\n",
    "\n",
    "        dates = get_date_range(p_frame['order_date'].iloc[0], len(p_frame)+2)\n",
    "        fig = px.line(x=p_frame['order_date'], y= p_frame['quantities_sold'], title='predicted values for prodcut id ' + str(p_id))\n",
    "        fig.add_scatter(x=dates, y=predicted_values, name='predicted') \n",
    "        fig.update_xaxes(title='date')\n",
    "        fig.update_yaxes(title='quantity')\n",
    "        fig.show()"
   ]
  },
  {
   "cell_type": "markdown",
   "metadata": {},
   "source": [
    "# Save the model and load it "
   ]
  },
  {
   "cell_type": "code",
   "execution_count": 35,
   "metadata": {},
   "outputs": [],
   "source": [
    "import pickle\n",
    "pickle.dump(regressor, open('random_forest_625_products_monthly.pkl', 'wb'))"
   ]
  },
  {
   "cell_type": "code",
   "execution_count": null,
   "metadata": {},
   "outputs": [],
   "source": [
    "import pickle\n",
    "loaded_model = pickle.load(open('random_forest_625_products_monthly.pkl', 'rb'))"
   ]
  },
  {
   "cell_type": "code",
   "execution_count": null,
   "metadata": {},
   "outputs": [],
   "source": [
    "for i in range(0, len(X_train.columns), 10):\n",
    "    print(X_train.columns[i: i + 10])"
   ]
  },
  {
   "cell_type": "code",
   "execution_count": null,
   "metadata": {},
   "outputs": [],
   "source": [
    "predict_function(regressor, sc1, sc2, 3422)"
   ]
  },
  {
   "cell_type": "markdown",
   "metadata": {},
   "source": [
    "### In random forests, there is no need for cross-validation or, Each tree is constructed using a different bootstrap sample from the original data."
   ]
  },
  {
   "cell_type": "code",
   "execution_count": null,
   "metadata": {},
   "outputs": [],
   "source": []
  },
  {
   "cell_type": "markdown",
   "metadata": {},
   "source": [
    "# Using linear regression"
   ]
  },
  {
   "cell_type": "code",
   "execution_count": 40,
   "metadata": {},
   "outputs": [
    {
     "data": {
      "text/html": [
       "<div>\n",
       "<style scoped>\n",
       "    .dataframe tbody tr th:only-of-type {\n",
       "        vertical-align: middle;\n",
       "    }\n",
       "\n",
       "    .dataframe tbody tr th {\n",
       "        vertical-align: top;\n",
       "    }\n",
       "\n",
       "    .dataframe thead th {\n",
       "        text-align: right;\n",
       "    }\n",
       "</style>\n",
       "<table border=\"1\" class=\"dataframe\">\n",
       "  <thead>\n",
       "    <tr style=\"text-align: right;\">\n",
       "      <th></th>\n",
       "      <th>order_date</th>\n",
       "      <th>product_id</th>\n",
       "      <th>quantities_sold</th>\n",
       "    </tr>\n",
       "  </thead>\n",
       "  <tbody>\n",
       "    <tr>\n",
       "      <th>0</th>\n",
       "      <td>2019-09-30</td>\n",
       "      <td>8</td>\n",
       "      <td>11.00000</td>\n",
       "    </tr>\n",
       "    <tr>\n",
       "      <th>1</th>\n",
       "      <td>2019-10-31</td>\n",
       "      <td>8</td>\n",
       "      <td>62.00000</td>\n",
       "    </tr>\n",
       "    <tr>\n",
       "      <th>2</th>\n",
       "      <td>2019-11-30</td>\n",
       "      <td>8</td>\n",
       "      <td>151.00000</td>\n",
       "    </tr>\n",
       "    <tr>\n",
       "      <th>3</th>\n",
       "      <td>2019-12-31</td>\n",
       "      <td>8</td>\n",
       "      <td>588.00000</td>\n",
       "    </tr>\n",
       "    <tr>\n",
       "      <th>4</th>\n",
       "      <td>2020-01-31</td>\n",
       "      <td>8</td>\n",
       "      <td>719.00000</td>\n",
       "    </tr>\n",
       "  </tbody>\n",
       "</table>\n",
       "</div>"
      ],
      "text/plain": [
       "  order_date  product_id  quantities_sold\n",
       "0 2019-09-30           8         11.00000\n",
       "1 2019-10-31           8         62.00000\n",
       "2 2019-11-30           8        151.00000\n",
       "3 2019-12-31           8        588.00000\n",
       "4 2020-01-31           8        719.00000"
      ]
     },
     "execution_count": 40,
     "metadata": {},
     "output_type": "execute_result"
    }
   ],
   "source": [
    "df = pd.read_csv(\"monthly data.csv\")\n",
    "df['order_date'] = pd.to_datetime(df['order_date'])\n",
    "df.head()"
   ]
  },
  {
   "cell_type": "code",
   "execution_count": 41,
   "metadata": {},
   "outputs": [
    {
     "data": {
      "text/plain": [
       "StandardScaler()"
      ]
     },
     "execution_count": 41,
     "metadata": {},
     "output_type": "execute_result"
    }
   ],
   "source": [
    "df['order_date'] = pd.to_numeric(df['order_date'])\n",
    "\n",
    "sc1 = StandardScaler()\n",
    "sc2 = StandardScaler()\n",
    "\n",
    "sc1.fit(np.array(df['order_date']).reshape(-1, 1))\n",
    "sc2.fit(np.array(df['quantities_sold']).reshape(-1, 1))"
   ]
  },
  {
   "cell_type": "code",
   "execution_count": 42,
   "metadata": {},
   "outputs": [
    {
     "name": "stdout",
     "output_type": "stream",
     "text": [
      "Number of products = 844\n"
     ]
    }
   ],
   "source": [
    "print('Number of products = {}'.format(len(df['product_id'].unique())))"
   ]
  },
  {
   "cell_type": "code",
   "execution_count": 43,
   "metadata": {},
   "outputs": [
    {
     "name": "stdout",
     "output_type": "stream",
     "text": [
      "Size of data frame = 22296 records\n"
     ]
    }
   ],
   "source": [
    "print('Size of data frame = {} records'.format(len(df)))"
   ]
  },
  {
   "cell_type": "code",
   "execution_count": 44,
   "metadata": {},
   "outputs": [],
   "source": [
    "cor_list = list()\n",
    "list_cor = list()\n",
    "for i in df['product_id'].unique():\n",
    "    info = dict()\n",
    "    temp_f = df[df['product_id'] == i]\n",
    "\n",
    "    temp_f['date'] = pd.to_datetime(temp_f['order_date'])\n",
    "    temp_f['date'] = pd.to_numeric(temp_f['date'])\n",
    "    temp_f['target'] = temp_f['quantities_sold']\n",
    "\n",
    "    temp_f.drop(['order_date', 'product_id', 'quantities_sold'], axis=1, inplace=True)\n",
    "    cor = temp_f.corr()\n",
    "\n",
    "    info['product_id'] = [i]\n",
    "    info['correlation with date'] = ['{:.2f}'.format(cor['date'][1])]\n",
    "    \n",
    "    if np.abs(cor['date'][1]) < 0.50:\n",
    "        df.drop(df[df['product_id'] == i].index, inplace=True)\n",
    "        \n",
    "    list_cor.append(cor['date'][1])\n",
    "    cor_list.append(pd.DataFrame(info))\n",
    "pd.concat(cor_list, ignore_index=True).to_csv('correlation with date monthly.csv', index=False)"
   ]
  },
  {
   "cell_type": "code",
   "execution_count": 45,
   "metadata": {},
   "outputs": [
    {
     "name": "stdout",
     "output_type": "stream",
     "text": [
      "Number of products have correlation greater than or equal 0.50 = 625  products\n"
     ]
    }
   ],
   "source": [
    "print('Number of products have correlation greater than or equal 0.50 = {}  products'.format(len(df['product_id'].unique())))"
   ]
  },
  {
   "cell_type": "code",
   "execution_count": 46,
   "metadata": {},
   "outputs": [
    {
     "name": "stdout",
     "output_type": "stream",
     "text": [
      "Size of data frame after cancelling products with no crrelation = 16698 records\n"
     ]
    }
   ],
   "source": [
    "print('Size of data frame after cancelling products with no crrelation = {} records'.format(len(df)))"
   ]
  },
  {
   "cell_type": "markdown",
   "metadata": {},
   "source": [
    "# Take 2 months from from each prodct to be used in testing"
   ]
  },
  {
   "cell_type": "code",
   "execution_count": 47,
   "metadata": {},
   "outputs": [
    {
     "data": {
      "text/html": [
       "<div>\n",
       "<style scoped>\n",
       "    .dataframe tbody tr th:only-of-type {\n",
       "        vertical-align: middle;\n",
       "    }\n",
       "\n",
       "    .dataframe tbody tr th {\n",
       "        vertical-align: top;\n",
       "    }\n",
       "\n",
       "    .dataframe thead th {\n",
       "        text-align: right;\n",
       "    }\n",
       "</style>\n",
       "<table border=\"1\" class=\"dataframe\">\n",
       "  <thead>\n",
       "    <tr style=\"text-align: right;\">\n",
       "      <th></th>\n",
       "      <th>order_date</th>\n",
       "      <th>product_id</th>\n",
       "      <th>quantities_sold</th>\n",
       "    </tr>\n",
       "  </thead>\n",
       "  <tbody>\n",
       "    <tr>\n",
       "      <th>0</th>\n",
       "      <td>1569801600000000000</td>\n",
       "      <td>8</td>\n",
       "      <td>11.00000</td>\n",
       "    </tr>\n",
       "    <tr>\n",
       "      <th>1</th>\n",
       "      <td>1572480000000000000</td>\n",
       "      <td>8</td>\n",
       "      <td>62.00000</td>\n",
       "    </tr>\n",
       "    <tr>\n",
       "      <th>2</th>\n",
       "      <td>1575072000000000000</td>\n",
       "      <td>8</td>\n",
       "      <td>151.00000</td>\n",
       "    </tr>\n",
       "    <tr>\n",
       "      <th>3</th>\n",
       "      <td>1577750400000000000</td>\n",
       "      <td>8</td>\n",
       "      <td>588.00000</td>\n",
       "    </tr>\n",
       "    <tr>\n",
       "      <th>4</th>\n",
       "      <td>1580428800000000000</td>\n",
       "      <td>8</td>\n",
       "      <td>719.00000</td>\n",
       "    </tr>\n",
       "  </tbody>\n",
       "</table>\n",
       "</div>"
      ],
      "text/plain": [
       "            order_date  product_id  quantities_sold\n",
       "0  1569801600000000000           8         11.00000\n",
       "1  1572480000000000000           8         62.00000\n",
       "2  1575072000000000000           8        151.00000\n",
       "3  1577750400000000000           8        588.00000\n",
       "4  1580428800000000000           8        719.00000"
      ]
     },
     "execution_count": 47,
     "metadata": {},
     "output_type": "execute_result"
    }
   ],
   "source": [
    "test_set = pd.DataFrame()\n",
    "frames = list()\n",
    "\n",
    "for i in df['product_id'].unique():\n",
    "    frame = df[df['product_id'] == i]\n",
    "    frame = frame.sort_values(by='order_date')\n",
    "    test_set = pd.concat([test_set, frame.tail(2)], ignore_index=True)\n",
    "    frame.drop(frame.tail(2).index, inplace=True)\n",
    "    frames.append(frame)\n",
    "\n",
    "df = pd.concat(frames, ignore_index=True)\n",
    "df.head()"
   ]
  },
  {
   "cell_type": "code",
   "execution_count": 48,
   "metadata": {},
   "outputs": [
    {
     "data": {
      "text/plain": [
       "(15448, 1250)"
      ]
     },
     "execution_count": 48,
     "metadata": {},
     "output_type": "execute_result"
    }
   ],
   "source": [
    "len(df), len(test_set)"
   ]
  },
  {
   "cell_type": "code",
   "execution_count": 49,
   "metadata": {},
   "outputs": [
    {
     "data": {
      "text/html": [
       "<div>\n",
       "<style scoped>\n",
       "    .dataframe tbody tr th:only-of-type {\n",
       "        vertical-align: middle;\n",
       "    }\n",
       "\n",
       "    .dataframe tbody tr th {\n",
       "        vertical-align: top;\n",
       "    }\n",
       "\n",
       "    .dataframe thead th {\n",
       "        text-align: right;\n",
       "    }\n",
       "</style>\n",
       "<table border=\"1\" class=\"dataframe\">\n",
       "  <thead>\n",
       "    <tr style=\"text-align: right;\">\n",
       "      <th></th>\n",
       "      <th>order_date</th>\n",
       "      <th>product_id</th>\n",
       "      <th>quantities_sold</th>\n",
       "    </tr>\n",
       "  </thead>\n",
       "  <tbody>\n",
       "    <tr>\n",
       "      <th>0</th>\n",
       "      <td>1569801600000000000</td>\n",
       "      <td>8</td>\n",
       "      <td>11.00000</td>\n",
       "    </tr>\n",
       "    <tr>\n",
       "      <th>1</th>\n",
       "      <td>1572480000000000000</td>\n",
       "      <td>8</td>\n",
       "      <td>62.00000</td>\n",
       "    </tr>\n",
       "    <tr>\n",
       "      <th>2</th>\n",
       "      <td>1575072000000000000</td>\n",
       "      <td>8</td>\n",
       "      <td>151.00000</td>\n",
       "    </tr>\n",
       "    <tr>\n",
       "      <th>3</th>\n",
       "      <td>1577750400000000000</td>\n",
       "      <td>8</td>\n",
       "      <td>588.00000</td>\n",
       "    </tr>\n",
       "    <tr>\n",
       "      <th>4</th>\n",
       "      <td>1580428800000000000</td>\n",
       "      <td>8</td>\n",
       "      <td>719.00000</td>\n",
       "    </tr>\n",
       "  </tbody>\n",
       "</table>\n",
       "</div>"
      ],
      "text/plain": [
       "            order_date  product_id  quantities_sold\n",
       "0  1569801600000000000           8         11.00000\n",
       "1  1572480000000000000           8         62.00000\n",
       "2  1575072000000000000           8        151.00000\n",
       "3  1577750400000000000           8        588.00000\n",
       "4  1580428800000000000           8        719.00000"
      ]
     },
     "execution_count": 49,
     "metadata": {},
     "output_type": "execute_result"
    }
   ],
   "source": [
    "df.head()"
   ]
  },
  {
   "cell_type": "code",
   "execution_count": 50,
   "metadata": {},
   "outputs": [
    {
     "data": {
      "text/html": [
       "<div>\n",
       "<style scoped>\n",
       "    .dataframe tbody tr th:only-of-type {\n",
       "        vertical-align: middle;\n",
       "    }\n",
       "\n",
       "    .dataframe tbody tr th {\n",
       "        vertical-align: top;\n",
       "    }\n",
       "\n",
       "    .dataframe thead th {\n",
       "        text-align: right;\n",
       "    }\n",
       "</style>\n",
       "<table border=\"1\" class=\"dataframe\">\n",
       "  <thead>\n",
       "    <tr style=\"text-align: right;\">\n",
       "      <th></th>\n",
       "      <th>order_date</th>\n",
       "      <th>10</th>\n",
       "      <th>11</th>\n",
       "      <th>12</th>\n",
       "      <th>13</th>\n",
       "      <th>14</th>\n",
       "      <th>15</th>\n",
       "      <th>16</th>\n",
       "      <th>19</th>\n",
       "      <th>22</th>\n",
       "      <th>...</th>\n",
       "      <th>4383</th>\n",
       "      <th>4391</th>\n",
       "      <th>4394</th>\n",
       "      <th>4395</th>\n",
       "      <th>4396</th>\n",
       "      <th>4398</th>\n",
       "      <th>4407</th>\n",
       "      <th>4409</th>\n",
       "      <th>4415</th>\n",
       "      <th>target</th>\n",
       "    </tr>\n",
       "  </thead>\n",
       "  <tbody>\n",
       "    <tr>\n",
       "      <th>0</th>\n",
       "      <td>-1.80119</td>\n",
       "      <td>0</td>\n",
       "      <td>0</td>\n",
       "      <td>0</td>\n",
       "      <td>0</td>\n",
       "      <td>0</td>\n",
       "      <td>0</td>\n",
       "      <td>0</td>\n",
       "      <td>0</td>\n",
       "      <td>0</td>\n",
       "      <td>...</td>\n",
       "      <td>0</td>\n",
       "      <td>0</td>\n",
       "      <td>0</td>\n",
       "      <td>0</td>\n",
       "      <td>0</td>\n",
       "      <td>0</td>\n",
       "      <td>0</td>\n",
       "      <td>0</td>\n",
       "      <td>0</td>\n",
       "      <td>-0.27028</td>\n",
       "    </tr>\n",
       "    <tr>\n",
       "      <th>1</th>\n",
       "      <td>-1.66993</td>\n",
       "      <td>0</td>\n",
       "      <td>0</td>\n",
       "      <td>0</td>\n",
       "      <td>0</td>\n",
       "      <td>0</td>\n",
       "      <td>0</td>\n",
       "      <td>0</td>\n",
       "      <td>0</td>\n",
       "      <td>0</td>\n",
       "      <td>...</td>\n",
       "      <td>0</td>\n",
       "      <td>0</td>\n",
       "      <td>0</td>\n",
       "      <td>0</td>\n",
       "      <td>0</td>\n",
       "      <td>0</td>\n",
       "      <td>0</td>\n",
       "      <td>0</td>\n",
       "      <td>0</td>\n",
       "      <td>-0.22049</td>\n",
       "    </tr>\n",
       "    <tr>\n",
       "      <th>2</th>\n",
       "      <td>-1.54291</td>\n",
       "      <td>0</td>\n",
       "      <td>0</td>\n",
       "      <td>0</td>\n",
       "      <td>0</td>\n",
       "      <td>0</td>\n",
       "      <td>0</td>\n",
       "      <td>0</td>\n",
       "      <td>0</td>\n",
       "      <td>0</td>\n",
       "      <td>...</td>\n",
       "      <td>0</td>\n",
       "      <td>0</td>\n",
       "      <td>0</td>\n",
       "      <td>0</td>\n",
       "      <td>0</td>\n",
       "      <td>0</td>\n",
       "      <td>0</td>\n",
       "      <td>0</td>\n",
       "      <td>0</td>\n",
       "      <td>-0.13362</td>\n",
       "    </tr>\n",
       "    <tr>\n",
       "      <th>3</th>\n",
       "      <td>-1.41166</td>\n",
       "      <td>0</td>\n",
       "      <td>0</td>\n",
       "      <td>0</td>\n",
       "      <td>0</td>\n",
       "      <td>0</td>\n",
       "      <td>0</td>\n",
       "      <td>0</td>\n",
       "      <td>0</td>\n",
       "      <td>0</td>\n",
       "      <td>...</td>\n",
       "      <td>0</td>\n",
       "      <td>0</td>\n",
       "      <td>0</td>\n",
       "      <td>0</td>\n",
       "      <td>0</td>\n",
       "      <td>0</td>\n",
       "      <td>0</td>\n",
       "      <td>0</td>\n",
       "      <td>0</td>\n",
       "      <td>0.29294</td>\n",
       "    </tr>\n",
       "    <tr>\n",
       "      <th>4</th>\n",
       "      <td>-1.28041</td>\n",
       "      <td>0</td>\n",
       "      <td>0</td>\n",
       "      <td>0</td>\n",
       "      <td>0</td>\n",
       "      <td>0</td>\n",
       "      <td>0</td>\n",
       "      <td>0</td>\n",
       "      <td>0</td>\n",
       "      <td>0</td>\n",
       "      <td>...</td>\n",
       "      <td>0</td>\n",
       "      <td>0</td>\n",
       "      <td>0</td>\n",
       "      <td>0</td>\n",
       "      <td>0</td>\n",
       "      <td>0</td>\n",
       "      <td>0</td>\n",
       "      <td>0</td>\n",
       "      <td>0</td>\n",
       "      <td>0.42081</td>\n",
       "    </tr>\n",
       "    <tr>\n",
       "      <th>5</th>\n",
       "      <td>-1.15763</td>\n",
       "      <td>0</td>\n",
       "      <td>0</td>\n",
       "      <td>0</td>\n",
       "      <td>0</td>\n",
       "      <td>0</td>\n",
       "      <td>0</td>\n",
       "      <td>0</td>\n",
       "      <td>0</td>\n",
       "      <td>0</td>\n",
       "      <td>...</td>\n",
       "      <td>0</td>\n",
       "      <td>0</td>\n",
       "      <td>0</td>\n",
       "      <td>0</td>\n",
       "      <td>0</td>\n",
       "      <td>0</td>\n",
       "      <td>0</td>\n",
       "      <td>0</td>\n",
       "      <td>0</td>\n",
       "      <td>0.41886</td>\n",
       "    </tr>\n",
       "    <tr>\n",
       "      <th>6</th>\n",
       "      <td>-1.02637</td>\n",
       "      <td>0</td>\n",
       "      <td>0</td>\n",
       "      <td>0</td>\n",
       "      <td>0</td>\n",
       "      <td>0</td>\n",
       "      <td>0</td>\n",
       "      <td>0</td>\n",
       "      <td>0</td>\n",
       "      <td>0</td>\n",
       "      <td>...</td>\n",
       "      <td>0</td>\n",
       "      <td>0</td>\n",
       "      <td>0</td>\n",
       "      <td>0</td>\n",
       "      <td>0</td>\n",
       "      <td>0</td>\n",
       "      <td>0</td>\n",
       "      <td>0</td>\n",
       "      <td>0</td>\n",
       "      <td>0.86494</td>\n",
       "    </tr>\n",
       "    <tr>\n",
       "      <th>7</th>\n",
       "      <td>-0.89936</td>\n",
       "      <td>0</td>\n",
       "      <td>0</td>\n",
       "      <td>0</td>\n",
       "      <td>0</td>\n",
       "      <td>0</td>\n",
       "      <td>0</td>\n",
       "      <td>0</td>\n",
       "      <td>0</td>\n",
       "      <td>0</td>\n",
       "      <td>...</td>\n",
       "      <td>0</td>\n",
       "      <td>0</td>\n",
       "      <td>0</td>\n",
       "      <td>0</td>\n",
       "      <td>0</td>\n",
       "      <td>0</td>\n",
       "      <td>0</td>\n",
       "      <td>0</td>\n",
       "      <td>0</td>\n",
       "      <td>0.42960</td>\n",
       "    </tr>\n",
       "    <tr>\n",
       "      <th>8</th>\n",
       "      <td>-0.76810</td>\n",
       "      <td>0</td>\n",
       "      <td>0</td>\n",
       "      <td>0</td>\n",
       "      <td>0</td>\n",
       "      <td>0</td>\n",
       "      <td>0</td>\n",
       "      <td>0</td>\n",
       "      <td>0</td>\n",
       "      <td>0</td>\n",
       "      <td>...</td>\n",
       "      <td>0</td>\n",
       "      <td>0</td>\n",
       "      <td>0</td>\n",
       "      <td>0</td>\n",
       "      <td>0</td>\n",
       "      <td>0</td>\n",
       "      <td>0</td>\n",
       "      <td>0</td>\n",
       "      <td>0</td>\n",
       "      <td>0.72634</td>\n",
       "    </tr>\n",
       "    <tr>\n",
       "      <th>9</th>\n",
       "      <td>-0.64108</td>\n",
       "      <td>0</td>\n",
       "      <td>0</td>\n",
       "      <td>0</td>\n",
       "      <td>0</td>\n",
       "      <td>0</td>\n",
       "      <td>0</td>\n",
       "      <td>0</td>\n",
       "      <td>0</td>\n",
       "      <td>0</td>\n",
       "      <td>...</td>\n",
       "      <td>0</td>\n",
       "      <td>0</td>\n",
       "      <td>0</td>\n",
       "      <td>0</td>\n",
       "      <td>0</td>\n",
       "      <td>0</td>\n",
       "      <td>0</td>\n",
       "      <td>0</td>\n",
       "      <td>0</td>\n",
       "      <td>0.97817</td>\n",
       "    </tr>\n",
       "  </tbody>\n",
       "</table>\n",
       "<p>10 rows × 626 columns</p>\n",
       "</div>"
      ],
      "text/plain": [
       "   order_date  10  11  12  13  14  15  16  19  22  ...  4383  4391  4394  \\\n",
       "0    -1.80119   0   0   0   0   0   0   0   0   0  ...     0     0     0   \n",
       "1    -1.66993   0   0   0   0   0   0   0   0   0  ...     0     0     0   \n",
       "2    -1.54291   0   0   0   0   0   0   0   0   0  ...     0     0     0   \n",
       "3    -1.41166   0   0   0   0   0   0   0   0   0  ...     0     0     0   \n",
       "4    -1.28041   0   0   0   0   0   0   0   0   0  ...     0     0     0   \n",
       "5    -1.15763   0   0   0   0   0   0   0   0   0  ...     0     0     0   \n",
       "6    -1.02637   0   0   0   0   0   0   0   0   0  ...     0     0     0   \n",
       "7    -0.89936   0   0   0   0   0   0   0   0   0  ...     0     0     0   \n",
       "8    -0.76810   0   0   0   0   0   0   0   0   0  ...     0     0     0   \n",
       "9    -0.64108   0   0   0   0   0   0   0   0   0  ...     0     0     0   \n",
       "\n",
       "   4395  4396  4398  4407  4409  4415   target  \n",
       "0     0     0     0     0     0     0 -0.27028  \n",
       "1     0     0     0     0     0     0 -0.22049  \n",
       "2     0     0     0     0     0     0 -0.13362  \n",
       "3     0     0     0     0     0     0  0.29294  \n",
       "4     0     0     0     0     0     0  0.42081  \n",
       "5     0     0     0     0     0     0  0.41886  \n",
       "6     0     0     0     0     0     0  0.86494  \n",
       "7     0     0     0     0     0     0  0.42960  \n",
       "8     0     0     0     0     0     0  0.72634  \n",
       "9     0     0     0     0     0     0  0.97817  \n",
       "\n",
       "[10 rows x 626 columns]"
      ]
     },
     "execution_count": 50,
     "metadata": {},
     "output_type": "execute_result"
    }
   ],
   "source": [
    "temp = sc1.transform(np.array(df['order_date']).reshape(-1, 1))\n",
    "temp = pd.DataFrame(temp)\n",
    "temp.rename(columns={0:'order_date'}, inplace=True)\n",
    "\n",
    "\n",
    "dummy1 = pd.get_dummies(df['product_id'])\n",
    "dummy1.drop(8, axis=1, inplace=True)\n",
    "\n",
    "new_df = pd.DataFrame()\n",
    "new_df = pd.concat([new_df, temp, dummy1], axis=1)\n",
    "new_df['target'] = sc2.transform(np.array(df['quantities_sold']).reshape(-1, 1))\n",
    "new_df.head(10)\n"
   ]
  },
  {
   "cell_type": "code",
   "execution_count": 51,
   "metadata": {},
   "outputs": [
    {
     "data": {
      "text/html": [
       "<div>\n",
       "<style scoped>\n",
       "    .dataframe tbody tr th:only-of-type {\n",
       "        vertical-align: middle;\n",
       "    }\n",
       "\n",
       "    .dataframe tbody tr th {\n",
       "        vertical-align: top;\n",
       "    }\n",
       "\n",
       "    .dataframe thead th {\n",
       "        text-align: right;\n",
       "    }\n",
       "</style>\n",
       "<table border=\"1\" class=\"dataframe\">\n",
       "  <thead>\n",
       "    <tr style=\"text-align: right;\">\n",
       "      <th></th>\n",
       "      <th>order_date</th>\n",
       "      <th>10</th>\n",
       "      <th>11</th>\n",
       "      <th>12</th>\n",
       "      <th>13</th>\n",
       "      <th>14</th>\n",
       "      <th>15</th>\n",
       "      <th>16</th>\n",
       "      <th>19</th>\n",
       "      <th>22</th>\n",
       "      <th>...</th>\n",
       "      <th>4383</th>\n",
       "      <th>4391</th>\n",
       "      <th>4394</th>\n",
       "      <th>4395</th>\n",
       "      <th>4396</th>\n",
       "      <th>4398</th>\n",
       "      <th>4407</th>\n",
       "      <th>4409</th>\n",
       "      <th>4415</th>\n",
       "      <th>target</th>\n",
       "    </tr>\n",
       "  </thead>\n",
       "  <tbody>\n",
       "    <tr>\n",
       "      <th>0</th>\n",
       "      <td>1.55210</td>\n",
       "      <td>0</td>\n",
       "      <td>0</td>\n",
       "      <td>0</td>\n",
       "      <td>0</td>\n",
       "      <td>0</td>\n",
       "      <td>0</td>\n",
       "      <td>0</td>\n",
       "      <td>0</td>\n",
       "      <td>0</td>\n",
       "      <td>...</td>\n",
       "      <td>0</td>\n",
       "      <td>0</td>\n",
       "      <td>0</td>\n",
       "      <td>0</td>\n",
       "      <td>0</td>\n",
       "      <td>0</td>\n",
       "      <td>0</td>\n",
       "      <td>0</td>\n",
       "      <td>0</td>\n",
       "      <td>7.53863</td>\n",
       "    </tr>\n",
       "    <tr>\n",
       "      <th>1</th>\n",
       "      <td>1.68335</td>\n",
       "      <td>0</td>\n",
       "      <td>0</td>\n",
       "      <td>0</td>\n",
       "      <td>0</td>\n",
       "      <td>0</td>\n",
       "      <td>0</td>\n",
       "      <td>0</td>\n",
       "      <td>0</td>\n",
       "      <td>0</td>\n",
       "      <td>...</td>\n",
       "      <td>0</td>\n",
       "      <td>0</td>\n",
       "      <td>0</td>\n",
       "      <td>0</td>\n",
       "      <td>0</td>\n",
       "      <td>0</td>\n",
       "      <td>0</td>\n",
       "      <td>0</td>\n",
       "      <td>0</td>\n",
       "      <td>3.60880</td>\n",
       "    </tr>\n",
       "    <tr>\n",
       "      <th>2</th>\n",
       "      <td>1.55210</td>\n",
       "      <td>1</td>\n",
       "      <td>0</td>\n",
       "      <td>0</td>\n",
       "      <td>0</td>\n",
       "      <td>0</td>\n",
       "      <td>0</td>\n",
       "      <td>0</td>\n",
       "      <td>0</td>\n",
       "      <td>0</td>\n",
       "      <td>...</td>\n",
       "      <td>0</td>\n",
       "      <td>0</td>\n",
       "      <td>0</td>\n",
       "      <td>0</td>\n",
       "      <td>0</td>\n",
       "      <td>0</td>\n",
       "      <td>0</td>\n",
       "      <td>0</td>\n",
       "      <td>0</td>\n",
       "      <td>0.24023</td>\n",
       "    </tr>\n",
       "    <tr>\n",
       "      <th>3</th>\n",
       "      <td>1.68335</td>\n",
       "      <td>1</td>\n",
       "      <td>0</td>\n",
       "      <td>0</td>\n",
       "      <td>0</td>\n",
       "      <td>0</td>\n",
       "      <td>0</td>\n",
       "      <td>0</td>\n",
       "      <td>0</td>\n",
       "      <td>0</td>\n",
       "      <td>...</td>\n",
       "      <td>0</td>\n",
       "      <td>0</td>\n",
       "      <td>0</td>\n",
       "      <td>0</td>\n",
       "      <td>0</td>\n",
       "      <td>0</td>\n",
       "      <td>0</td>\n",
       "      <td>0</td>\n",
       "      <td>0</td>\n",
       "      <td>-0.01942</td>\n",
       "    </tr>\n",
       "    <tr>\n",
       "      <th>4</th>\n",
       "      <td>1.55210</td>\n",
       "      <td>0</td>\n",
       "      <td>1</td>\n",
       "      <td>0</td>\n",
       "      <td>0</td>\n",
       "      <td>0</td>\n",
       "      <td>0</td>\n",
       "      <td>0</td>\n",
       "      <td>0</td>\n",
       "      <td>0</td>\n",
       "      <td>...</td>\n",
       "      <td>0</td>\n",
       "      <td>0</td>\n",
       "      <td>0</td>\n",
       "      <td>0</td>\n",
       "      <td>0</td>\n",
       "      <td>0</td>\n",
       "      <td>0</td>\n",
       "      <td>0</td>\n",
       "      <td>0</td>\n",
       "      <td>-0.03210</td>\n",
       "    </tr>\n",
       "  </tbody>\n",
       "</table>\n",
       "<p>5 rows × 626 columns</p>\n",
       "</div>"
      ],
      "text/plain": [
       "   order_date  10  11  12  13  14  15  16  19  22  ...  4383  4391  4394  \\\n",
       "0     1.55210   0   0   0   0   0   0   0   0   0  ...     0     0     0   \n",
       "1     1.68335   0   0   0   0   0   0   0   0   0  ...     0     0     0   \n",
       "2     1.55210   1   0   0   0   0   0   0   0   0  ...     0     0     0   \n",
       "3     1.68335   1   0   0   0   0   0   0   0   0  ...     0     0     0   \n",
       "4     1.55210   0   1   0   0   0   0   0   0   0  ...     0     0     0   \n",
       "\n",
       "   4395  4396  4398  4407  4409  4415   target  \n",
       "0     0     0     0     0     0     0  7.53863  \n",
       "1     0     0     0     0     0     0  3.60880  \n",
       "2     0     0     0     0     0     0  0.24023  \n",
       "3     0     0     0     0     0     0 -0.01942  \n",
       "4     0     0     0     0     0     0 -0.03210  \n",
       "\n",
       "[5 rows x 626 columns]"
      ]
     },
     "execution_count": 51,
     "metadata": {},
     "output_type": "execute_result"
    }
   ],
   "source": [
    "dummy1 = pd.get_dummies(test_set['product_id'])\n",
    "dummy1.drop(8, axis=1,inplace=True)\n",
    "\n",
    "temp = sc1.transform(np.array(test_set['order_date']).reshape(-1, 1))\n",
    "temp = pd.DataFrame(temp)\n",
    "temp.rename(columns={0:'order_date'}, inplace=True)\n",
    "\n",
    "new_test_set = pd.DataFrame()\n",
    "new_test_set = pd.concat([new_test_set, temp, dummy1], axis=1)\n",
    "new_test_set['target'] = sc2.transform(np.array(test_set['quantities_sold']).reshape(-1,1))\n",
    "\n",
    "new_test_set.head()"
   ]
  },
  {
   "cell_type": "code",
   "execution_count": 53,
   "metadata": {},
   "outputs": [
    {
     "data": {
      "text/plain": [
       "(15448, 1250, 15448, 1250)"
      ]
     },
     "execution_count": 53,
     "metadata": {},
     "output_type": "execute_result"
    }
   ],
   "source": [
    "X_train = new_df.drop('target', axis=1)\n",
    "y_train = new_df['target']\n",
    "\n",
    "X_test = new_test_set.drop('target', axis=1)\n",
    "y_test = new_test_set['target']\n",
    "\n",
    "len(X_train), len(X_test), len(y_train), len(y_test)\n"
   ]
  },
  {
   "cell_type": "code",
   "execution_count": 54,
   "metadata": {},
   "outputs": [
    {
     "data": {
      "text/plain": [
       "LinearRegression()"
      ]
     },
     "execution_count": 54,
     "metadata": {},
     "output_type": "execute_result"
    }
   ],
   "source": [
    "lin_regressor = LinearRegression()\n",
    "lin_regressor.fit(X_train, y_train)"
   ]
  },
  {
   "cell_type": "code",
   "execution_count": 55,
   "metadata": {},
   "outputs": [
    {
     "data": {
      "text/plain": [
       "0.6253849695281457"
      ]
     },
     "execution_count": 55,
     "metadata": {},
     "output_type": "execute_result"
    }
   ],
   "source": [
    "lin_regressor.score(X_train, y_train)"
   ]
  },
  {
   "cell_type": "code",
   "execution_count": null,
   "metadata": {},
   "outputs": [],
   "source": [
    "X2 = sm.add_constant(X_train)\n",
    "est = sm.OLS(y_train, X2)\n",
    "est2 = est.fit()\n",
    "print(est2.summary())"
   ]
  },
  {
   "cell_type": "code",
   "execution_count": 57,
   "metadata": {},
   "outputs": [
    {
     "data": {
      "text/plain": [
       "(0.49978609239128235, 0.7523486156421124)"
      ]
     },
     "execution_count": 57,
     "metadata": {},
     "output_type": "execute_result"
    }
   ],
   "source": [
    "y_pred = lin_regressor.predict(X_test)\n",
    "\n",
    "mean_absolute_error(y_test, y_pred), mean_squared_error(y_test, y_pred)"
   ]
  },
  {
   "cell_type": "code",
   "execution_count": 58,
   "metadata": {},
   "outputs": [
    {
     "name": "stdout",
     "output_type": "stream",
     "text": [
      "MAE = 799.9069025923925\n",
      "MSE = 1058.6499122815628\n"
     ]
    }
   ],
   "source": [
    "MAE = sc2.inverse_transform(np.array(mean_absolute_error(y_test, y_pred)).reshape(1, -1))[0][0]\n",
    "MSE = sc2.inverse_transform(np.array(mean_squared_error(y_test, y_pred)).reshape(1, -1))[0][0]\n",
    "\n",
    "print('MAE = {}\\nMSE = {}'.format(MAE, MSE))"
   ]
  },
  {
   "cell_type": "code",
   "execution_count": 59,
   "metadata": {},
   "outputs": [
    {
     "data": {
      "text/plain": [
       "0.6631964634384608"
      ]
     },
     "execution_count": 59,
     "metadata": {},
     "output_type": "execute_result"
    }
   ],
   "source": [
    "lin_regressor.score(X_test, y_test)"
   ]
  },
  {
   "cell_type": "code",
   "execution_count": null,
   "metadata": {},
   "outputs": [],
   "source": [
    "error = sc2.inverse_transform(np.array(y_test - y_pred).reshape(1,-1))\n",
    "temp = list()\n",
    "for i in error:\n",
    "    for j in i:\n",
    "        temp.append(j)\n",
    "\n",
    "error = temp\n",
    "\n",
    "fig = px.histogram(error, nbins=20,title='Monthly error (Linear regression)', text_auto=True)\n",
    "fig.update_layout(bargap=0.4)\n",
    "fig.update_xaxes(title_text='Error')\n",
    "fig.update_yaxes(title_text='Count')\n",
    "fig.show()"
   ]
  },
  {
   "cell_type": "code",
   "execution_count": 64,
   "metadata": {},
   "outputs": [
    {
     "data": {
      "text/html": [
       "<div>\n",
       "<style scoped>\n",
       "    .dataframe tbody tr th:only-of-type {\n",
       "        vertical-align: middle;\n",
       "    }\n",
       "\n",
       "    .dataframe tbody tr th {\n",
       "        vertical-align: top;\n",
       "    }\n",
       "\n",
       "    .dataframe thead th {\n",
       "        text-align: right;\n",
       "    }\n",
       "</style>\n",
       "<table border=\"1\" class=\"dataframe\">\n",
       "  <thead>\n",
       "    <tr style=\"text-align: right;\">\n",
       "      <th></th>\n",
       "      <th>order_date</th>\n",
       "      <th>product_id</th>\n",
       "      <th>quantities_sold</th>\n",
       "    </tr>\n",
       "  </thead>\n",
       "  <tbody>\n",
       "    <tr>\n",
       "      <th>1891</th>\n",
       "      <td>2019-07-31</td>\n",
       "      <td>355</td>\n",
       "      <td>20.00000</td>\n",
       "    </tr>\n",
       "    <tr>\n",
       "      <th>1892</th>\n",
       "      <td>2019-08-31</td>\n",
       "      <td>355</td>\n",
       "      <td>26.00000</td>\n",
       "    </tr>\n",
       "    <tr>\n",
       "      <th>1893</th>\n",
       "      <td>2019-09-30</td>\n",
       "      <td>355</td>\n",
       "      <td>162.00000</td>\n",
       "    </tr>\n",
       "    <tr>\n",
       "      <th>1894</th>\n",
       "      <td>2019-10-31</td>\n",
       "      <td>355</td>\n",
       "      <td>940.00000</td>\n",
       "    </tr>\n",
       "    <tr>\n",
       "      <th>1895</th>\n",
       "      <td>2019-11-30</td>\n",
       "      <td>355</td>\n",
       "      <td>1025.00000</td>\n",
       "    </tr>\n",
       "  </tbody>\n",
       "</table>\n",
       "</div>"
      ],
      "text/plain": [
       "     order_date  product_id  quantities_sold\n",
       "1891 2019-07-31         355         20.00000\n",
       "1892 2019-08-31         355         26.00000\n",
       "1893 2019-09-30         355        162.00000\n",
       "1894 2019-10-31         355        940.00000\n",
       "1895 2019-11-30         355       1025.00000"
      ]
     },
     "execution_count": 64,
     "metadata": {},
     "output_type": "execute_result"
    }
   ],
   "source": [
    "frame = pd.read_csv(\"monthly data.csv\")\n",
    "p_frame = frame[frame['product_id'] == 355]\n",
    "p_frame['order_date'] = pd.to_datetime(p_frame['order_date'])\n",
    "p_frame = p_frame.sort_values(by='order_date')\n",
    "p_frame.head()"
   ]
  },
  {
   "cell_type": "code",
   "execution_count": 65,
   "metadata": {},
   "outputs": [],
   "source": [
    "date = generate_date_range(sc1, p_frame['order_date'].iloc[0], len(p_frame)+2)\n",
    "p_id = 355\n",
    "\n",
    "if p_id not in list(X_train.columns) and p_id != 8:\n",
    "    print('Product is not found')\n",
    "else:\n",
    "    row = list()\n",
    "    predicted_values = list()\n",
    "    for j in date:\n",
    "        row.append(j)\n",
    "        for i in X_train.columns:\n",
    "            if i == p_id:\n",
    "                row.append(1)\n",
    "            elif str(i).isnumeric():\n",
    "                row.append(0)\n",
    "                \n",
    "        arr = np.array(row).reshape(1, -1)\n",
    "        predicted_values.append(sc2.inverse_transform(np.array(lin_regressor.predict(arr)[0]).reshape(1,-1))[0][0])\n",
    "        row.clear()"
   ]
  },
  {
   "cell_type": "code",
   "execution_count": null,
   "metadata": {},
   "outputs": [],
   "source": [
    "dates = get_date_range(p_frame['order_date'].iloc[0], len(p_frame) + 2)\n",
    "fig = px.line(x=p_frame['order_date'], y= p_frame['quantities_sold'], title='predicted values for prodcut ' + str(p_id))\n",
    "fig.add_scatter(x=dates, y=predicted_values, name='predicted') \n",
    "fig.update_xaxes(title='date')\n",
    "fig.update_yaxes(title='quantity')\n",
    "fig.show()"
   ]
  },
  {
   "cell_type": "code",
   "execution_count": 69,
   "metadata": {},
   "outputs": [
    {
     "data": {
      "text/plain": [
       "0.5762910639200649"
      ]
     },
     "execution_count": 69,
     "metadata": {},
     "output_type": "execute_result"
    }
   ],
   "source": [
    "folds = KFold(n_splits = 50, shuffle = True, random_state = 100)\n",
    "scores = cross_val_score(lin_regressor, X_train, y_train, scoring='r2', cv=folds)\n",
    "np.mean(scores)   "
   ]
  },
  {
   "cell_type": "markdown",
   "metadata": {},
   "source": [
    "* 5 splits ==> 0.59\n",
    "* 10 splits ==> 0.59\n",
    "* 50 splits ==> 0.57"
   ]
  },
  {
   "cell_type": "code",
   "execution_count": null,
   "metadata": {},
   "outputs": [],
   "source": []
  }
 ],
 "metadata": {
  "interpreter": {
   "hash": "20d6b5c647154d2482a6644da6c9aedec33587a3746cb4ee4b5ee58046ce901b"
  },
  "kernelspec": {
   "display_name": "Python 3.9.7",
   "language": "python",
   "name": "python3"
  },
  "language_info": {
   "codemirror_mode": {
    "name": "ipython",
    "version": 3
   },
   "file_extension": ".py",
   "mimetype": "text/x-python",
   "name": "python",
   "nbconvert_exporter": "python",
   "pygments_lexer": "ipython3",
   "version": "3.9.7"
  },
  "orig_nbformat": 4
 },
 "nbformat": 4,
 "nbformat_minor": 2
}
