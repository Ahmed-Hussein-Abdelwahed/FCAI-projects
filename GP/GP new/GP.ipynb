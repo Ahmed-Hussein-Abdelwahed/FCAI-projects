{
 "cells": [
  {
   "cell_type": "code",
   "execution_count": 1,
   "id": "f6ec7124",
   "metadata": {},
   "outputs": [],
   "source": [
    "import warnings\n",
    "import numpy as np\n",
    "import pandas as pd\n",
    "import plotly.express as px\n",
    "import plotly.graph_objects as go\n",
    "from plotly.subplots import make_subplots\n",
    "from statsmodels.tsa.holtwinters import ExponentialSmoothing\n",
    "from statsmodels.tsa.seasonal import DecomposeResult, seasonal_decompose\n",
    "from sklearn.utils import shuffle\n",
    "from sklearn.ensemble import RandomForestRegressor\n",
    "from sklearn.metrics import mean_squared_log_error, mean_absolute_error, r2_score\n",
    "\n",
    "pd.options.display.width = None\n",
    "warnings.filterwarnings('ignore')\n",
    "pd.options.display.max_rows = None\n",
    "pd.set_option('display.float_format', lambda x: '%.3f' % x)  # format numeric outputs"
   ]
  },
  {
   "cell_type": "markdown",
   "id": "2e6e3bd9",
   "metadata": {},
   "source": [
    "# Reading data"
   ]
  },
  {
   "cell_type": "code",
   "execution_count": 2,
   "id": "445315a0",
   "metadata": {},
   "outputs": [],
   "source": [
    "df_2019 = pd.read_excel(\"E:\\\\visual stodio code\\\\GP\\\\Data.xlsx\", sheet_name='2019')\n",
    "df_2019['order_date'] = pd.to_datetime(df_2019['order_date'], format='%m/%d/%y')\n",
    "\n",
    "df_2020 = pd.read_excel(\"E:\\\\visual stodio code\\\\GP\\\\Data.xlsx\", sheet_name='2020')\n",
    "df_2020['order_date'] = pd.to_datetime(df_2020['order_date'], format='%m/%d/%y')\n",
    "\n",
    "df_2021 = pd.concat(pd.read_excel(\"E:\\\\visual stodio code\\\\GP\\\\Data.xlsx\", sheet_name=['2021 - 1', '2021 - 2', '2021 - 3']), ignore_index=True)\n",
    "df_2021['order_date'] = pd.to_datetime(df_2021['order_date'], format='%m/%d/%y')"
   ]
  },
  {
   "cell_type": "code",
   "execution_count": 3,
   "id": "8094a9c8",
   "metadata": {},
   "outputs": [
    {
     "data": {
      "text/html": [
       "<div>\n",
       "<style scoped>\n",
       "    .dataframe tbody tr th:only-of-type {\n",
       "        vertical-align: middle;\n",
       "    }\n",
       "\n",
       "    .dataframe tbody tr th {\n",
       "        vertical-align: top;\n",
       "    }\n",
       "\n",
       "    .dataframe thead th {\n",
       "        text-align: right;\n",
       "    }\n",
       "</style>\n",
       "<table border=\"1\" class=\"dataframe\">\n",
       "  <thead>\n",
       "    <tr style=\"text-align: right;\">\n",
       "      <th></th>\n",
       "      <th>order_date</th>\n",
       "      <th>retailer_id</th>\n",
       "      <th>product_id</th>\n",
       "      <th>quantities_sold</th>\n",
       "    </tr>\n",
       "  </thead>\n",
       "  <tbody>\n",
       "    <tr>\n",
       "      <th>0</th>\n",
       "      <td>2019-10-19</td>\n",
       "      <td>63</td>\n",
       "      <td>8</td>\n",
       "      <td>3.000</td>\n",
       "    </tr>\n",
       "    <tr>\n",
       "      <th>1</th>\n",
       "      <td>2019-12-14</td>\n",
       "      <td>63</td>\n",
       "      <td>8</td>\n",
       "      <td>4.000</td>\n",
       "    </tr>\n",
       "    <tr>\n",
       "      <th>2</th>\n",
       "      <td>2019-12-21</td>\n",
       "      <td>63</td>\n",
       "      <td>8</td>\n",
       "      <td>3.000</td>\n",
       "    </tr>\n",
       "    <tr>\n",
       "      <th>3</th>\n",
       "      <td>2019-12-07</td>\n",
       "      <td>67</td>\n",
       "      <td>8</td>\n",
       "      <td>2.000</td>\n",
       "    </tr>\n",
       "    <tr>\n",
       "      <th>4</th>\n",
       "      <td>2019-12-28</td>\n",
       "      <td>67</td>\n",
       "      <td>8</td>\n",
       "      <td>2.000</td>\n",
       "    </tr>\n",
       "  </tbody>\n",
       "</table>\n",
       "</div>"
      ],
      "text/plain": [
       "  order_date  retailer_id  product_id  quantities_sold\n",
       "0 2019-10-19           63           8            3.000\n",
       "1 2019-12-14           63           8            4.000\n",
       "2 2019-12-21           63           8            3.000\n",
       "3 2019-12-07           67           8            2.000\n",
       "4 2019-12-28           67           8            2.000"
      ]
     },
     "execution_count": 3,
     "metadata": {},
     "output_type": "execute_result"
    }
   ],
   "source": [
    "df_2019.head()"
   ]
  },
  {
   "cell_type": "markdown",
   "id": "0d2345b1",
   "metadata": {},
   "source": [
    "# Data preparation"
   ]
  },
  {
   "cell_type": "code",
   "execution_count": 4,
   "id": "304b795c",
   "metadata": {},
   "outputs": [],
   "source": [
    "df_2019.drop('retailer_id', axis=1, inplace=True)\n",
    "df_2020.drop('retailer_id', axis=1, inplace=True)\n",
    "df_2021.drop('retailer_id', axis=1, inplace=True)"
   ]
  },
  {
   "cell_type": "markdown",
   "id": "e20f4773",
   "metadata": {},
   "source": [
    "## Checking empty cells existence"
   ]
  },
  {
   "cell_type": "code",
   "execution_count": 5,
   "id": "387c9350",
   "metadata": {},
   "outputs": [
    {
     "data": {
      "text/plain": [
       "order_date         0\n",
       "product_id         0\n",
       "quantities_sold    0\n",
       "dtype: int64"
      ]
     },
     "execution_count": 5,
     "metadata": {},
     "output_type": "execute_result"
    }
   ],
   "source": [
    "df_2019.isnull().sum()"
   ]
  },
  {
   "cell_type": "code",
   "execution_count": 6,
   "id": "6cdf9319",
   "metadata": {},
   "outputs": [
    {
     "data": {
      "text/plain": [
       "order_date         0\n",
       "product_id         0\n",
       "quantities_sold    0\n",
       "dtype: int64"
      ]
     },
     "execution_count": 6,
     "metadata": {},
     "output_type": "execute_result"
    }
   ],
   "source": [
    "df_2020.isnull().sum()"
   ]
  },
  {
   "cell_type": "code",
   "execution_count": 7,
   "id": "732b78da",
   "metadata": {},
   "outputs": [
    {
     "data": {
      "text/plain": [
       "order_date         0\n",
       "product_id         0\n",
       "quantities_sold    0\n",
       "dtype: int64"
      ]
     },
     "execution_count": 7,
     "metadata": {},
     "output_type": "execute_result"
    }
   ],
   "source": [
    "df_2021.isnull().sum()"
   ]
  },
  {
   "cell_type": "markdown",
   "id": "88961db3",
   "metadata": {},
   "source": [
    "## Checking negative values or zero values existence"
   ]
  },
  {
   "cell_type": "code",
   "execution_count": 8,
   "id": "6ec42623",
   "metadata": {},
   "outputs": [
    {
     "data": {
      "text/plain": [
       "(False, False)"
      ]
     },
     "execution_count": 8,
     "metadata": {},
     "output_type": "execute_result"
    }
   ],
   "source": [
    "(df_2019['product_id'] <= 0).values.any(),(df_2019['quantities_sold'] <= 0).values.any()"
   ]
  },
  {
   "cell_type": "code",
   "execution_count": 9,
   "id": "63944cd3",
   "metadata": {},
   "outputs": [
    {
     "data": {
      "text/plain": [
       "(False, False)"
      ]
     },
     "execution_count": 9,
     "metadata": {},
     "output_type": "execute_result"
    }
   ],
   "source": [
    "(df_2020['product_id'] <= 0).values.any(),(df_2020['quantities_sold'] <= 0).values.any()"
   ]
  },
  {
   "cell_type": "code",
   "execution_count": 10,
   "id": "cbd1227b",
   "metadata": {},
   "outputs": [
    {
     "data": {
      "text/plain": [
       "(False, False)"
      ]
     },
     "execution_count": 10,
     "metadata": {},
     "output_type": "execute_result"
    }
   ],
   "source": [
    "(df_2021['product_id'] <= 0).values.any(),(df_2021['quantities_sold'] <= 0).values.any()"
   ]
  },
  {
   "cell_type": "markdown",
   "id": "1715e3e4",
   "metadata": {},
   "source": [
    "# Add feature for season"
   ]
  },
  {
   "cell_type": "code",
   "execution_count": 12,
   "id": "bd084cb0",
   "metadata": {},
   "outputs": [],
   "source": [
    "def season_of_date(df, year):\n",
    "    df['season'] = 'Season'\n",
    "    year = str(year)\n",
    "\n",
    "    seasons = {'Spring': pd.date_range(start='21/03/'+year, end='20/06/'+year),\n",
    "               'Summer': pd.date_range(start='21/06/'+year, end='22/09/'+year),\n",
    "               'Autumn': pd.date_range(start='23/09/'+year, end='20/12/'+year)}\n",
    "\n",
    "\n",
    "    df['season'] = df['order_date'].apply(lambda x: 'Spring' if x in seasons['Spring'] \n",
    "                                        else ('Summer' if x in seasons['Summer']\n",
    "                                        else('Autumn' if x in seasons['Autumn'] else 'Winter')))\n",
    "    \n",
    "\n",
    "    return df"
   ]
  },
  {
   "cell_type": "markdown",
   "id": "c8bfb66f",
   "metadata": {},
   "source": [
    "## Checking outliers existence"
   ]
  },
  {
   "cell_type": "code",
   "execution_count": 11,
   "id": "34e44f26",
   "metadata": {},
   "outputs": [],
   "source": [
    "def check_outliers_existence(df):\n",
    "    flag = False\n",
    "    temp_frame = list()\n",
    "    \n",
    "    for i in df['product_id'].unique():\n",
    "        product_frame = df[df['product_id'] == i]\n",
    "        product_frame['quantity_std'] = (product_frame['quantities_sold'] - product_frame['quantities_sold'].mean()) / product_frame['quantities_sold'].std()\n",
    "        count = 0\n",
    "        count += len(product_frame['quantity_std'] == 3)\n",
    "        count += len(product_frame['quantity_std'] == -3)\n",
    "        temp_frame.append(count)\n",
    "        \n",
    "    if sum(temp_frame) != 0:\n",
    "        flag = True\n",
    "        \n",
    "    return flag"
   ]
  },
  {
   "cell_type": "markdown",
   "id": "5d18db8c",
   "metadata": {},
   "source": [
    "## Drop outliers"
   ]
  },
  {
   "cell_type": "code",
   "execution_count": 12,
   "id": "6aae496c",
   "metadata": {},
   "outputs": [],
   "source": [
    "def drop_outliers(df):\n",
    "    frames_list = list()\n",
    "    for i in df['product_id'].unique():\n",
    "        product_frame = df[df['product_id'] == i]\n",
    "        product_frame['quantity_std'] = (product_frame['quantities_sold'] - product_frame['quantities_sold'].mean()) / product_frame['quantities_sold'].std()\n",
    "        product_frame1 = product_frame.drop(product_frame['quantity_std'].index[np.abs(product_frame['quantity_std']) > 3].tolist(), inplace=True)\n",
    "        product_frame1 = product_frame.drop('quantity_std', axis=1,inplace=True)\n",
    "        frames_list.append(product_frame)\n",
    "    return pd.concat(frames_list)"
   ]
  },
  {
   "cell_type": "markdown",
   "id": "cf013a6e",
   "metadata": {},
   "source": [
    "## Resample data"
   ]
  },
  {
   "cell_type": "code",
   "execution_count": 13,
   "id": "fd1f3695",
   "metadata": {},
   "outputs": [],
   "source": [
    "def resampel_data(df, paramter):\n",
    "    \n",
    "    frames_list = list()\n",
    "    for i in df['product_id'].unique():\n",
    "        product_frame = df[df['product_id'] == i]\n",
    "        temp_frame = product_frame.set_index('order_date').resample(paramter)['quantities_sold'].sum().reset_index()\n",
    "        temp_frame.insert(1, 'product_id', i)\n",
    "        frames_list.append(temp_frame.sort_values(by='order_date'))\n",
    "    return pd.concat(frames_list)       "
   ]
  },
  {
   "cell_type": "markdown",
   "id": "d33d5d1c",
   "metadata": {},
   "source": [
    "## Get common products"
   ]
  },
  {
   "cell_type": "code",
   "execution_count": 14,
   "id": "8e7cc9fe",
   "metadata": {},
   "outputs": [],
   "source": [
    "def get_common_products(df, products_ids):\n",
    "    \n",
    "    frames_list = list()\n",
    "    for value in products_ids:\n",
    "        frames_list.append(df[df['product_id'] == value].sort_values(by='order_date'))\n",
    "    return pd.concat(frames_list)"
   ]
  },
  {
   "cell_type": "markdown",
   "id": "53a2e3d5",
   "metadata": {},
   "source": [
    "## Get products with ids"
   ]
  },
  {
   "cell_type": "code",
   "execution_count": 15,
   "id": "137f4443",
   "metadata": {},
   "outputs": [],
   "source": [
    "def get_products_with_ids(df, products_ids):\n",
    "    \n",
    "    frames_list = list()\n",
    "    \n",
    "    for i in products_ids:\n",
    "        temp_frame = df[df['product_id'] == i]\n",
    "        temp_frame.sort_values(by='order_date')\n",
    "        frames_list.append(temp_frame)\n",
    "        \n",
    "    return frames_list"
   ]
  },
  {
   "cell_type": "markdown",
   "id": "fe0f24a1",
   "metadata": {},
   "source": [
    "# Data analysis\n",
    "## KPI(s)\n",
    "* Demand\n",
    "* Number of products transactions"
   ]
  },
  {
   "cell_type": "code",
   "execution_count": 16,
   "id": "3db0a2fe",
   "metadata": {},
   "outputs": [
    {
     "name": "stdout",
     "output_type": "stream",
     "text": [
      "Number of products in year 2019 = 921 products\n"
     ]
    }
   ],
   "source": [
    "print('Number of products in year 2019 = {} products'.format(len(df_2019['product_id'].unique())))"
   ]
  },
  {
   "cell_type": "code",
   "execution_count": 17,
   "id": "862ac40c",
   "metadata": {},
   "outputs": [
    {
     "name": "stdout",
     "output_type": "stream",
     "text": [
      "Number of products in year 2020 = 5041 products\n"
     ]
    }
   ],
   "source": [
    "print('Number of products in year 2020 = {} products'.format(len(df_2020['product_id'].unique())))"
   ]
  },
  {
   "cell_type": "code",
   "execution_count": 18,
   "id": "57fea5c3",
   "metadata": {},
   "outputs": [
    {
     "name": "stdout",
     "output_type": "stream",
     "text": [
      "Number of products in year 2021 = 10290 products\n"
     ]
    }
   ],
   "source": [
    "print('Number of products in year 2021 = {} products'.format(len(df_2021['product_id'].unique())))"
   ]
  },
  {
   "cell_type": "markdown",
   "id": "d4168575",
   "metadata": {},
   "source": [
    "## Get commen products IDs"
   ]
  },
  {
   "cell_type": "code",
   "execution_count": 16,
   "id": "49d86b7a",
   "metadata": {},
   "outputs": [],
   "source": [
    "common_products_ids = set(df_2019['product_id']) & set(df_2020['product_id']) & set(df_2021['product_id'])"
   ]
  },
  {
   "cell_type": "code",
   "execution_count": 17,
   "id": "6bb53629",
   "metadata": {},
   "outputs": [
    {
     "name": "stdout",
     "output_type": "stream",
     "text": [
      "Number of common products in all years = 844 products\n"
     ]
    }
   ],
   "source": [
    "print('Number of common products in all years = {} products'.format(len(common_products_ids)))"
   ]
  },
  {
   "cell_type": "code",
   "execution_count": 18,
   "id": "e324e338",
   "metadata": {},
   "outputs": [],
   "source": [
    "combined_df = pd.concat([df_2019, df_2020, df_2021], ignore_index=True)  "
   ]
  },
  {
   "cell_type": "code",
   "execution_count": 19,
   "id": "6c2506aa",
   "metadata": {},
   "outputs": [],
   "source": [
    "common_products = get_common_products(combined_df, common_products_ids)"
   ]
  },
  {
   "cell_type": "markdown",
   "id": "07f09511",
   "metadata": {},
   "source": [
    "### Daily data"
   ]
  },
  {
   "cell_type": "code",
   "execution_count": null,
   "id": "dc2fec65",
   "metadata": {},
   "outputs": [],
   "source": [
    "daily_df = resampel_data(common_products,'D')"
   ]
  },
  {
   "cell_type": "code",
   "execution_count": null,
   "id": "e593f68d",
   "metadata": {},
   "outputs": [],
   "source": [
    "len(daily_df)"
   ]
  },
  {
   "cell_type": "code",
   "execution_count": null,
   "id": "8c6e0da6",
   "metadata": {},
   "outputs": [],
   "source": [
    "print(check_outliers_existence(daily_df))"
   ]
  },
  {
   "cell_type": "code",
   "execution_count": null,
   "id": "92657921",
   "metadata": {},
   "outputs": [],
   "source": [
    "new_daily_df = drop_outliers(daily_df)"
   ]
  },
  {
   "cell_type": "code",
   "execution_count": null,
   "id": "a99a65b4",
   "metadata": {},
   "outputs": [],
   "source": [
    "print('Outliers percentage = {}'.format((len(daily_df) - len(new_daily_df)) / len(daily_df))) "
   ]
  },
  {
   "cell_type": "markdown",
   "id": "c0913471",
   "metadata": {},
   "source": [
    "### Weekly data"
   ]
  },
  {
   "cell_type": "code",
   "execution_count": 22,
   "id": "a58c39c5",
   "metadata": {},
   "outputs": [],
   "source": [
    "weekly_df = resampel_data(common_products,'W')"
   ]
  },
  {
   "cell_type": "code",
   "execution_count": 23,
   "id": "808421ed",
   "metadata": {},
   "outputs": [
    {
     "data": {
      "text/plain": [
       "94999"
      ]
     },
     "execution_count": 23,
     "metadata": {},
     "output_type": "execute_result"
    }
   ],
   "source": [
    "len(weekly_df)"
   ]
  },
  {
   "cell_type": "code",
   "execution_count": 24,
   "id": "74a874cc",
   "metadata": {},
   "outputs": [
    {
     "name": "stdout",
     "output_type": "stream",
     "text": [
      "True\n"
     ]
    }
   ],
   "source": [
    "print(check_outliers_existence(weekly_df))"
   ]
  },
  {
   "cell_type": "code",
   "execution_count": 25,
   "id": "0c55acc6",
   "metadata": {},
   "outputs": [],
   "source": [
    "new_weekly_df = drop_outliers(weekly_df)"
   ]
  },
  {
   "cell_type": "code",
   "execution_count": 26,
   "id": "c69e606b",
   "metadata": {},
   "outputs": [
    {
     "data": {
      "text/plain": [
       "93500"
      ]
     },
     "execution_count": 26,
     "metadata": {},
     "output_type": "execute_result"
    }
   ],
   "source": [
    "len(new_weekly_df)"
   ]
  },
  {
   "cell_type": "code",
   "execution_count": 27,
   "id": "91639e4c",
   "metadata": {},
   "outputs": [
    {
     "name": "stdout",
     "output_type": "stream",
     "text": [
      "Outliers percentage = 0.015779113464352255\n"
     ]
    }
   ],
   "source": [
    "print('Outliers percentage = {}'.format((len(weekly_df) - len(new_weekly_df)) / len(weekly_df)))"
   ]
  },
  {
   "cell_type": "markdown",
   "id": "77cac24a",
   "metadata": {},
   "source": [
    "### Monthly data"
   ]
  },
  {
   "cell_type": "code",
   "execution_count": 20,
   "id": "afc24653",
   "metadata": {},
   "outputs": [],
   "source": [
    "monthly_df = resampel_data(common_products,'M')"
   ]
  },
  {
   "cell_type": "code",
   "execution_count": 21,
   "id": "20e6f00e",
   "metadata": {},
   "outputs": [
    {
     "data": {
      "text/plain": [
       "22503"
      ]
     },
     "execution_count": 21,
     "metadata": {},
     "output_type": "execute_result"
    }
   ],
   "source": [
    "len(monthly_df)"
   ]
  },
  {
   "cell_type": "code",
   "execution_count": 22,
   "id": "5f45a6e3",
   "metadata": {},
   "outputs": [
    {
     "name": "stdout",
     "output_type": "stream",
     "text": [
      "True\n"
     ]
    }
   ],
   "source": [
    "print(check_outliers_existence(monthly_df))"
   ]
  },
  {
   "cell_type": "code",
   "execution_count": 23,
   "id": "095a1c35",
   "metadata": {},
   "outputs": [],
   "source": [
    "new_monthly_df = drop_outliers(monthly_df)"
   ]
  },
  {
   "cell_type": "code",
   "execution_count": 24,
   "id": "cb339ee0",
   "metadata": {},
   "outputs": [
    {
     "data": {
      "text/plain": [
       "22296"
      ]
     },
     "execution_count": 24,
     "metadata": {},
     "output_type": "execute_result"
    }
   ],
   "source": [
    "len(new_monthly_df)"
   ]
  },
  {
   "cell_type": "code",
   "execution_count": 25,
   "id": "acc0b98a",
   "metadata": {},
   "outputs": [
    {
     "name": "stdout",
     "output_type": "stream",
     "text": [
      "Outliers percentage = 0.009198773496867084\n"
     ]
    }
   ],
   "source": [
    "print('Outliers percentage = {}'.format((len(monthly_df) - len(new_monthly_df)) / len(monthly_df)))"
   ]
  },
  {
   "cell_type": "markdown",
   "id": "8740ee88",
   "metadata": {},
   "source": [
    "# Plotting data one product (8)"
   ]
  },
  {
   "cell_type": "code",
   "execution_count": null,
   "id": "31547ce2",
   "metadata": {},
   "outputs": [],
   "source": [
    "# fig = px.line(daily_df[daily_df['product_id'] == 8], x='order_date', y='quantities_sold', title='Daily data product id 8')\n",
    "# fig.show()"
   ]
  },
  {
   "cell_type": "code",
   "execution_count": null,
   "id": "8aeb2756",
   "metadata": {},
   "outputs": [],
   "source": [
    "# fig = px.line(new_weekly_df[weekly_df['product_id'] == 8], x='order_date', y='quantities_sold', title='Weekly data product id 8')\n",
    "# fig.show()"
   ]
  },
  {
   "cell_type": "code",
   "execution_count": null,
   "id": "c53a9aeb",
   "metadata": {},
   "outputs": [],
   "source": [
    "# fig = px.line(new_monthly_df[monthly_df['product_id'] == 8], x='order_date', y='quantities_sold', title='Monthly data product id 8')\n",
    "# fig.show()"
   ]
  },
  {
   "cell_type": "markdown",
   "id": "6fbc41ec",
   "metadata": {},
   "source": [
    "# Transactions number"
   ]
  },
  {
   "cell_type": "code",
   "execution_count": null,
   "id": "82fea196",
   "metadata": {},
   "outputs": [],
   "source": [
    "fig = px.histogram(x=df_2019['product_id'].value_counts().values)\n",
    "fig.update_layout(bargap=0.4)\n",
    "fig.show()"
   ]
  },
  {
   "cell_type": "code",
   "execution_count": null,
   "id": "a64402e0",
   "metadata": {},
   "outputs": [],
   "source": [
    "fig = px.histogram(x=df_2020['product_id'].value_counts().values)\n",
    "fig.update_layout(bargap=0.4)\n",
    "fig.show()"
   ]
  },
  {
   "cell_type": "code",
   "execution_count": null,
   "id": "7f0ee727",
   "metadata": {},
   "outputs": [],
   "source": [
    "fig = px.histogram(x=df_2021['product_id'].value_counts().values)\n",
    "fig.update_layout(bargap=0.4)\n",
    "fig.show()"
   ]
  },
  {
   "cell_type": "markdown",
   "id": "b19c0813",
   "metadata": {},
   "source": [
    "## Show percentages of data"
   ]
  },
  {
   "cell_type": "code",
   "execution_count": null,
   "id": "1636bc32",
   "metadata": {},
   "outputs": [],
   "source": [
    "size1 = len(get_common_products(combined_df, common_products_ids)) # size of commen products data\n",
    "size2 = len(combined_df)  # size of the whole data\n",
    "\n",
    "fig = px.pie(values=[size1, size2], names=['Common products data', 'Original data'])\n",
    "fig.show()"
   ]
  },
  {
   "cell_type": "code",
   "execution_count": null,
   "id": "480e9bc3",
   "metadata": {},
   "outputs": [],
   "source": [
    "fig = px.bar(x=['2019' , '2020', '2021'],\n",
    "             y=[len(df_2019['product_id'].unique()), len(df_2020['product_id'].unique()),len(df_2021['product_id'].unique())],\n",
    "             title='Number of products sold each year',\n",
    "             labels={'x': 'Year', 'y':'Number of products sold'})\n",
    "fig.show()"
   ]
  },
  {
   "cell_type": "markdown",
   "id": "37256bbb",
   "metadata": {},
   "source": [
    "## Show distributions of transactions"
   ]
  },
  {
   "cell_type": "code",
   "execution_count": null,
   "id": "bf228bde",
   "metadata": {},
   "outputs": [],
   "source": [
    "counts = list(common_products['product_id'].value_counts().values)\n",
    "\n",
    "fig = px.histogram(counts, nbins=20,title='Common products transactions before compression')\n",
    "fig.update_layout(bargap=0.4)\n",
    "fig.show()"
   ]
  },
  {
   "cell_type": "code",
   "execution_count": null,
   "id": "d3e39838",
   "metadata": {},
   "outputs": [],
   "source": [
    "counts = list(daily_df['product_id'].value_counts().values)\n",
    "\n",
    "fig = px.histogram(counts, nbins=20,title='Common products transactions after compression (daily)')\n",
    "fig.update_layout(bargap=0.4)\n",
    "fig.show()"
   ]
  },
  {
   "cell_type": "code",
   "execution_count": null,
   "id": "356ab98a",
   "metadata": {},
   "outputs": [],
   "source": [
    "counts = list(new_weekly_df['product_id'].value_counts().values)\n",
    "\n",
    "fig = px.histogram(counts, nbins=20,title='Common products transactions after compression (weekly)')\n",
    "fig.update_layout(bargap=0.4)\n",
    "fig.show()"
   ]
  },
  {
   "cell_type": "code",
   "execution_count": null,
   "id": "f58a1d7b",
   "metadata": {},
   "outputs": [],
   "source": [
    "counts = list(new_monthly_df['product_id'].value_counts().values)\n",
    "\n",
    "fig = px.histogram(counts, nbins=20,title='Common products transactions after compression (monthly)')\n",
    "fig.update_layout(bargap=0.4)\n",
    "fig.show()"
   ]
  },
  {
   "cell_type": "markdown",
   "id": "b6bbd34f",
   "metadata": {},
   "source": [
    "## Get top ten products ids"
   ]
  },
  {
   "cell_type": "code",
   "execution_count": null,
   "id": "25bdfb6b",
   "metadata": {
    "scrolled": true
   },
   "outputs": [],
   "source": [
    "monthly_sum = (new_monthly_df.groupby(['product_id']).sum()).sort_values(by='quantities_sold', ascending=False)\n",
    "monthly_sum[0:10]"
   ]
  },
  {
   "cell_type": "markdown",
   "id": "fa7dc8cb",
   "metadata": {},
   "source": [
    "## Create subplots"
   ]
  },
  {
   "cell_type": "code",
   "execution_count": null,
   "id": "15a7679f",
   "metadata": {},
   "outputs": [],
   "source": [
    "size1 = len(get_common_products(combined_df, common_products_ids)) # size of commen products data\n",
    "size2 = len(combined_df)  # size of the whole data\n",
    "\n",
    "counts1 = list(common_products['product_id'].value_counts().values)\n",
    "counts2 = list(daily_df['product_id'].value_counts().values)\n",
    "counts3 = list(new_weekly_df['product_id'].value_counts().values)\n",
    "counts4 = list(new_monthly_df['product_id'].value_counts().values)\n",
    "\n",
    "fig = make_subplots(rows=9, cols=1,\n",
    "                   specs=[[{'type': 'bar'}],\n",
    "                          [{'type': 'bar'}],\n",
    "                          [{'type': 'bar'}],\n",
    "                          [{'type': 'bar'}],\n",
    "                          [{'type': 'pie'}],\n",
    "                          [{'type':'bar'}],\n",
    "                          [{'type': 'bar'}],\n",
    "                          [{'type':'bar'}],\n",
    "                          [{'type': 'bar'}]],\n",
    "                   subplot_titles=('Number of products sold each year',\n",
    "                                   'Year 2019 products transactions',\n",
    "                                   'Year 2020 products transactions',\n",
    "                                   'Year 2021 products transactions',\n",
    "                                   'Percentage of common products data',\n",
    "                                   'Common products transactions before resampeling',\n",
    "                                   'Common products transactions after resampeling (daily)',\n",
    "                                   'Common products transactions after resampeling (weekly)',\n",
    "                                   'Common products transactions after resampeling (monthly)'))\n",
    "\n",
    "fig.add_trace(\n",
    "    go.Bar(x=['2019' , '2020', '2021'],\n",
    "             y=[len(df_2019['product_id'].unique()), len(df_2020['product_id'].unique()),len(df_2021['product_id'].unique())],\n",
    "          text=[len(df_2019['product_id'].unique()), len(df_2020['product_id'].unique()),len(df_2021['product_id'].unique())]),\n",
    "    row=1, col=1)\n",
    "\n",
    "fig.update_xaxes(title_text='Year', row=1, col=1)\n",
    "fig.update_yaxes(title_text='Number of products sold', row=1,col=1)\n",
    "\n",
    "fig.add_trace(go.Histogram(x=df_2019['product_id'].value_counts().values, nbinsy=20), row=2, col=1)\n",
    "\n",
    "fig.update_xaxes(title_text='Number of transactions', row=2, col=1)\n",
    "fig.update_yaxes(title_text='Number of products', row=2,col=1)\n",
    "\n",
    "fig.add_trace(go.Histogram(x=df_2020['product_id'].value_counts().values, nbinsy=20), row=3, col=1)\n",
    "\n",
    "fig.update_xaxes(title_text='Number of transactions', row=3, col=1)\n",
    "fig.update_yaxes(title_text='Number of products', row=3,col=1)\n",
    "\n",
    "fig.add_trace(go.Histogram(x=df_2021['product_id'].value_counts().values, nbinsy=20), row=4, col=1)\n",
    "\n",
    "fig.update_xaxes(title_text='Number of transactions', row=4, col=1)\n",
    "fig.update_yaxes(title_text='Number of products', row=4,col=1)\n",
    "\n",
    "fig.add_trace(\n",
    "    go.Pie(values=[size1, size2], labels=['Common products data', 'Orignal data']),\n",
    "    row=5, col=1)\n",
    "\n",
    "fig.add_trace(go.Histogram(x=counts1, nbinsy=20),\n",
    "             row=6, col=1)\n",
    "\n",
    "fig.update_xaxes(title_text='Number of transactions', row=6, col=1)\n",
    "fig.update_yaxes(title_text='Number of products', row=6, col=1)\n",
    "\n",
    "fig.add_trace(go.Histogram(x=counts2, nbinsy=20),\n",
    "             row=7, col=1)\n",
    "\n",
    "fig.update_xaxes(title_text='Number of transactions', row=7, col=1)\n",
    "fig.update_yaxes(title_text='Number of products', row=7, col=1)\n",
    "\n",
    "fig.add_trace(go.Histogram(x=counts3, nbinsy=20),\n",
    "             row=8, col=1)\n",
    "\n",
    "fig.update_xaxes(title_text='Number of transactions', row=8, col=1)\n",
    "fig.update_yaxes(title_text='Number of products', row=8, col=1)\n",
    "\n",
    "fig.add_trace(go.Histogram(x=counts4, nbinsy=20),\n",
    "             row=9, col=1)\n",
    "\n",
    "fig.update_xaxes(title_text='Number of transactions', row=9, col=1)\n",
    "fig.update_yaxes(title_text='Number of products', row=9, col=1)\n",
    "\n",
    "\n",
    "fig.update_layout(height= 2000, width = 1350, title_text='Data summary', bargap=0.5)\n",
    "\n",
    "\n",
    "fig.write_html('Data summary plots.html')"
   ]
  },
  {
   "cell_type": "code",
   "execution_count": null,
   "id": "cb9c3cd5",
   "metadata": {},
   "outputs": [],
   "source": [
    "fig = px.histogram(x=df_2019['product_id'].value_counts().values, nbins=20)\n",
    "fig.update_xaxes(title_text='Number of transactions')\n",
    "fig.update_yaxes(title_text='Number of products')\n",
    "fig.update_layout(height= 600, width = 900, title_text='Year 2019 products transactions', bargap=0.5)\n",
    "fig.write_html('year 2019 transactions.html')"
   ]
  },
  {
   "cell_type": "code",
   "execution_count": null,
   "id": "f403641d",
   "metadata": {},
   "outputs": [],
   "source": [
    "fig = px.histogram(x=df_2020['product_id'].value_counts().values, nbins=20)\n",
    "fig.update_xaxes(title_text='Number of transactions')\n",
    "fig.update_yaxes(title_text='Number of products')\n",
    "fig.update_layout(height= 600, width = 900, title_text='Year 2020 products transactions', bargap=0.5)\n",
    "fig.write_html('year 2020 transactions.html')"
   ]
  },
  {
   "cell_type": "code",
   "execution_count": null,
   "id": "b3840881",
   "metadata": {},
   "outputs": [],
   "source": [
    "fig = px.histogram(x=df_2021['product_id'].value_counts().values, nbins=20)\n",
    "fig.update_xaxes(title_text='Number of transactions')\n",
    "fig.update_yaxes(title_text='Number of products')\n",
    "fig.update_layout(height= 600, width = 900, title_text='Year 2021 products transactions', bargap=0.5)\n",
    "fig.write_html('year 2021 transactions.html')"
   ]
  },
  {
   "cell_type": "markdown",
   "id": "3860d422",
   "metadata": {},
   "source": [
    "## Plotting top ten products"
   ]
  },
  {
   "cell_type": "code",
   "execution_count": null,
   "id": "4f396be7",
   "metadata": {},
   "outputs": [],
   "source": [
    "def plot_top_ten_products(df, products_ids, axis_name,name):\n",
    "    \n",
    "    fig = go.Figure()\n",
    "\n",
    "    products_list = sorted(products_ids)\n",
    "\n",
    "    for product_id in products_list:\n",
    "        fig.add_trace(\n",
    "            go.Scatter(\n",
    "                x=df['order_date'][df['product_id'] == product_id],\n",
    "                y=df['quantities_sold'][df['product_id'] == product_id],\n",
    "                name=str(product_id), visible=True\n",
    "            )\n",
    "        )\n",
    "\n",
    "    buttons = []\n",
    "\n",
    "    for i, product_id in enumerate(products_list):\n",
    "        args = [False] * len(products_list)\n",
    "        args[i] = True\n",
    "\n",
    "        button = dict(label=str(product_id),\n",
    "                      method=\"update\",\n",
    "                      args=[{\"visible\": args}])\n",
    "\n",
    "        buttons.append(button)\n",
    "\n",
    "    fig.update_layout(\n",
    "        xaxis_title=axis_name,\n",
    "        yaxis_title='Quantity',\n",
    "        updatemenus=[dict(active=0, type=\"dropdown\", buttons=buttons, x=0, y=1.1, xanchor='left', yanchor='bottom')],\n",
    "        autosize=False, width=1000, height=800, title_text=name\n",
    "    )\n",
    "    \n",
    "    fig.write_html(name + '.html')"
   ]
  },
  {
   "cell_type": "markdown",
   "id": "c19c3e49",
   "metadata": {},
   "source": [
    "# Top ten products ids"
   ]
  },
  {
   "cell_type": "code",
   "execution_count": null,
   "id": "8526e037",
   "metadata": {},
   "outputs": [],
   "source": [
    "ids = [15, 3422, 16, 3705, 355, 2999, 3788, 3805, 4075, 3739]  "
   ]
  },
  {
   "cell_type": "code",
   "execution_count": null,
   "id": "e0fc4c71",
   "metadata": {},
   "outputs": [],
   "source": [
    "plot_top_ten_products(daily_df, ids, 'Dyas', 'Top ten products daily data')"
   ]
  },
  {
   "cell_type": "code",
   "execution_count": null,
   "id": "0b16c12e",
   "metadata": {},
   "outputs": [],
   "source": [
    "plot_top_ten_products(new_weekly_df, ids, 'Weeks', 'Top ten products weekly data')"
   ]
  },
  {
   "cell_type": "code",
   "execution_count": null,
   "id": "67013e8d",
   "metadata": {},
   "outputs": [],
   "source": [
    "plot_top_ten_products(new_monthly_df, ids, 'Months','Top ten products monthly data')"
   ]
  },
  {
   "cell_type": "markdown",
   "id": "5c585ba8",
   "metadata": {},
   "source": [
    "# Applying Exponential smoothing forecast on top ten products"
   ]
  },
  {
   "cell_type": "markdown",
   "id": "62ceb178",
   "metadata": {},
   "source": [
    "## Monthly data"
   ]
  },
  {
   "cell_type": "code",
   "execution_count": null,
   "id": "3a5a1772",
   "metadata": {},
   "outputs": [],
   "source": [
    "top_ten_products_monthly_data = get_products_with_ids(new_monthly_df, ids)"
   ]
  },
  {
   "cell_type": "markdown",
   "id": "378ea71a",
   "metadata": {},
   "source": [
    "## Weekly data"
   ]
  },
  {
   "cell_type": "markdown",
   "id": "013d90a5",
   "metadata": {},
   "source": [
    "### Forecasting on weekly data is not applicable (multiplicative) becasue of there are enough number of zeros\n",
    "### Because in multiplicative model for Holt Winter trend is calculated as division of two data points rather than subtraction (incase of additive model). Multiplicative model is generally more stable than additive model.\n",
    "### So, we will apply (additive) on weekly data"
   ]
  },
  {
   "cell_type": "code",
   "execution_count": null,
   "id": "f4131703",
   "metadata": {},
   "outputs": [],
   "source": [
    "new_weekly_df.head(20)"
   ]
  },
  {
   "cell_type": "code",
   "execution_count": null,
   "id": "f11b1116",
   "metadata": {},
   "outputs": [],
   "source": [
    "top_ten_products_weekly_data = get_products_with_ids(new_weekly_df, ids)"
   ]
  },
  {
   "cell_type": "markdown",
   "id": "6e90c290",
   "metadata": {},
   "source": [
    "# Decompose top ten products"
   ]
  },
  {
   "cell_type": "markdown",
   "id": "9c633d2a",
   "metadata": {},
   "source": [
    "### matplotlib decompose"
   ]
  },
  {
   "cell_type": "code",
   "execution_count": null,
   "id": "e3a353de",
   "metadata": {},
   "outputs": [],
   "source": [
    "def decompose_products_graphs(list_df, model, period, products_ids):\n",
    "    \n",
    "    for i in range(len(list_df)):\n",
    "        graph = seasonal_decompose(list_df[i]['quantities_sold'], model=model, period=period)\n",
    "        fig = graph.plot()\n",
    "        fig.show()"
   ]
  },
  {
   "cell_type": "code",
   "execution_count": null,
   "id": "0cbe8b33",
   "metadata": {},
   "outputs": [],
   "source": [
    "decompose_products_graphs(top_ten_products_weekly_data, 'additive', 4, ids)"
   ]
  },
  {
   "cell_type": "markdown",
   "id": "4846fafa",
   "metadata": {},
   "source": [
    "### Plotly decompose"
   ]
  },
  {
   "cell_type": "code",
   "execution_count": null,
   "id": "2081c40b",
   "metadata": {},
   "outputs": [],
   "source": [
    "def plot_seasonal_decompose(result:DecomposeResult, dates:pd.Series, title:'', time_scale:''):\n",
    "    x_axis = dates\n",
    "    return (\n",
    "        make_subplots(\n",
    "            rows=4,\n",
    "            cols=1,\n",
    "            subplot_titles=['Observed', 'Trend', 'Seasonal', 'Residuals'],\n",
    "        )\n",
    "        .add_trace(\n",
    "            go.Scatter(x=x_axis, y=result.observed, mode='lines', name='Observed'),\n",
    "            row=1,\n",
    "            col=1,\n",
    "        )\n",
    "        .add_trace(\n",
    "            go.Scatter(x=x_axis, y=result.trend, mode='lines', name='Trend'),\n",
    "            row=2,\n",
    "            col=1,\n",
    "        )\n",
    "        .add_trace(\n",
    "            go.Scatter(x=x_axis, y=result.seasonal, mode='lines', name='Seasonal'),\n",
    "            row=3,\n",
    "            col=1,\n",
    "        )\n",
    "        .add_trace(\n",
    "            go.Scatter(x=x_axis, y=result.resid, mode='lines', name='Residual'),\n",
    "            row=4,\n",
    "            col=1,\n",
    "        )\n",
    "        .update_layout(\n",
    "            height=900, title_text='Product id ' + title + time_scale + ' seasonal decomposition', margin={'t':100}, title_x=0.5\n",
    "        )\n",
    "    )"
   ]
  },
  {
   "cell_type": "markdown",
   "id": "105955a1",
   "metadata": {},
   "source": [
    "# Monthly decomposition"
   ]
  },
  {
   "cell_type": "code",
   "execution_count": null,
   "id": "f63dfaa9",
   "metadata": {},
   "outputs": [],
   "source": [
    "for i in range(len(top_ten_products_monthly_data)):\n",
    "    decomposition = seasonal_decompose(top_ten_products_monthly_data[i]['quantities_sold'], period=6)\n",
    "    fig = plot_seasonal_decompose(decomposition, top_ten_products_monthly_data[i]['order_date'], str(top_ten_products_monthly_data[i]['product_id'].loc[0]), ' monthly')\n",
    "    fig.update_layout(height=900, width=1100)\n",
    "    fig.write_html('product id ' + str(top_ten_products_monthly_data[i]['product_id'].loc[0]) +' monthly decomposition' + '.html')"
   ]
  },
  {
   "cell_type": "markdown",
   "id": "3d60ca0f",
   "metadata": {},
   "source": [
    "# Weekly decomposition"
   ]
  },
  {
   "cell_type": "code",
   "execution_count": null,
   "id": "31a31843",
   "metadata": {},
   "outputs": [],
   "source": [
    "for i in range(len(top_ten_products_weekly_data)):\n",
    "    decomposition = seasonal_decompose(top_ten_products_weekly_data[i]['quantities_sold'], period=4)\n",
    "    fig = plot_seasonal_decompose(decomposition, top_ten_products_weekly_data[i]['order_date'], str(top_ten_products_weekly_data[i]['product_id'].loc[0]), ' weekly')\n",
    "    fig.update_layout(height=900, width=1100)\n",
    "    fig.write_html('product id ' + str(top_ten_products_weekly_data[i]['product_id'].loc[0]) +' weekly decomposition' + '.html')"
   ]
  },
  {
   "cell_type": "markdown",
   "id": "467ba2eb",
   "metadata": {},
   "source": [
    "## Apply holt winter forecasting on top ten products"
   ]
  },
  {
   "cell_type": "code",
   "execution_count": null,
   "id": "9a267fa5",
   "metadata": {},
   "outputs": [],
   "source": [
    "def apply_holt_winter(list_df, products_ids, season, periods_num, frequency, axis_name,name):\n",
    "    \n",
    "    fig = make_subplots(rows=10, cols=1, subplot_titles=(['product id ' + str(i) for i in products_ids]))\n",
    "                        \n",
    "    model_info = dict()\n",
    "    MAE_values = list()\n",
    "    count = 1\n",
    "    \n",
    "    for frame in list_df:\n",
    "        model = ExponentialSmoothing(frame['quantities_sold'], seasonal = season, seasonal_periods = periods_num)\n",
    "        model.fit()\n",
    "        \n",
    "        model_forecast = model.predict(model.params,start = 0, end = len(frame) + 4)\n",
    "        \n",
    "        forecasted_frame = pd.DataFrame()\n",
    "        forecasted_frame['order_date'] = pd.date_range(start =frame['order_date'][0], periods = len(frame) + 5, freq=frequency)\n",
    "        forecasted_frame['quantities_sold'] = model_forecast\n",
    "        \n",
    "        MAE = float(np.sum(np.abs(frame['quantities_sold'] - forecasted_frame['quantities_sold'][:len(frame)]))) / len(frame)\n",
    "        RMSE = (float(np.sum((frame['quantities_sold'] - forecasted_frame['quantities_sold'][:len(frame)])**2)) / len(frame))**0.5\n",
    "        MAPE = ((np.sum(np.abs((frame['quantities_sold'] - forecasted_frame['quantities_sold'][:len(frame)]) / frame['quantities_sold']))) / len(frame)) / 100\n",
    "        \n",
    "        model_info['Product id ' + str(frame['product_id'][0]) + ' alpha value'] = model.params['smoothing_level']    # alpha\n",
    "        model_info['Product id ' + str(frame['product_id'][0]) + ' beta value'] = model.params['smoothing_seasonal']  # beta\n",
    "        model_info['Product id ' + str(frame['product_id'][0]) + ' MAE value'] = MAE\n",
    "        model_info['Product id ' + str(frame['product_id'][0]) + ' RMSE value'] = RMSE\n",
    "        model_info['Product id ' + str(frame['product_id'][0]) + ' MAPE value (%)'] = MAPE\n",
    "        \n",
    "        MAE_values.append(MAE)\n",
    "        \n",
    "        fig.add_trace(go.Scatter(x=frame['order_date'], y=frame['quantities_sold'], name='Actual'),row=count, col=1)\n",
    "        fig.add_trace(go.Scatter(x=forecasted_frame['order_date'], y=forecasted_frame['quantities_sold'], name='Forecast'),row=count, col=1)\n",
    "        \n",
    "        fig.update_xaxes(title_text=axis_name, row=count, col=1)\n",
    "        fig.update_yaxes(title_text='Quantity', row=count, col=1)\n",
    "        count += 1\n",
    "        \n",
    "    fig.update_layout(height=3000, width=1350, title_text='Top ten products forecating on monthly data')\n",
    "\n",
    "\n",
    "    fig.write_html(name + ' forecast.html')\n",
    "    \n",
    "    return model_info, MAE_values"
   ]
  },
  {
   "cell_type": "markdown",
   "id": "b719b516",
   "metadata": {},
   "source": [
    "### Monthly"
   ]
  },
  {
   "cell_type": "code",
   "execution_count": null,
   "id": "6b3a20e6",
   "metadata": {},
   "outputs": [],
   "source": [
    "from IPython.display import Image\n",
    "Image('Screenshot.png')"
   ]
  },
  {
   "cell_type": "markdown",
   "id": "62e2c411",
   "metadata": {},
   "source": [
    "### Weekly"
   ]
  },
  {
   "cell_type": "code",
   "execution_count": null,
   "id": "90f467a9",
   "metadata": {},
   "outputs": [],
   "source": [
    "info, weekly_error_values = apply_holt_winter(top_ten_products_weekly_data, ids, 'additive', 4, 'W', 'Weeks','Weekly top ten products')\n",
    "\n",
    "for item in info.items():\n",
    "    print(item)  "
   ]
  },
  {
   "cell_type": "code",
   "execution_count": null,
   "id": "37a44873",
   "metadata": {},
   "outputs": [],
   "source": [
    "fig = make_subplots(rows=1, cols=2, subplot_titles=('MAE values resulted from monthly forecast',\n",
    "                                                    'MAE values resulted from weekly forecast'))\n",
    "\n",
    "fig.add_trace(go.Histogram(x=monthly_error_values, name='Monthly'),row=1, col=1)\n",
    "\n",
    "fig.update_xaxes(title_text='Value of MAE', row=1, col=1)\n",
    "fig.update_yaxes(title_text='Number of products', row=1, col=1)\n",
    "\n",
    "fig.add_trace(go.Histogram(x=weekly_error_values, name='Weekly'),row=1, col=2)\n",
    "\n",
    "fig.update_xaxes(title_text='Value of MAE' , row=1, col=2)\n",
    "fig.update_yaxes(title_text='Number of products', row=1, col=2)\n",
    "\n",
    "\n",
    "fig.update_layout(height=600, width=1300, title_text='MAE values', bargap=0.5)\n",
    "\n",
    "fig.write_html('MAE values.html')"
   ]
  },
  {
   "cell_type": "markdown",
   "id": "13411cb3",
   "metadata": {},
   "source": [
    "# Apply time series regression"
   ]
  },
  {
   "cell_type": "markdown",
   "id": "2b5f51b2",
   "metadata": {},
   "source": [
    "## On weekly df"
   ]
  },
  {
   "cell_type": "code",
   "execution_count": null,
   "id": "f6247484",
   "metadata": {},
   "outputs": [],
   "source": [
    "def apply_random_forest_regression(df, estimatores_num):\n",
    "    \n",
    "    frames_list = list()\n",
    "    for i in df['product_id'].unique():\n",
    "        info = dict()\n",
    "        model = RandomForestRegressor(n_estimators=estimatores_num, random_state=42)\n",
    "        product_frame = df[df['product_id'] == i]\n",
    "        \n",
    "        temp_frame = season_of_date(product_frame[(product_frame['order_date'] >= '01/01/2019') & (product_frame['order_date'] <= '31/12/2019')],2019)\n",
    "        temp_frame1 = season_of_date(product_frame[(product_frame['order_date'] >= '01/01/2020') & (product_frame['order_date'] <= '31/12/2020')],2020)\n",
    "        temp_frame2 = season_of_date(product_frame[(product_frame['order_date'] >= '01/01/2021') & (product_frame['order_date'] <= '31/12/2021')],2021)\n",
    "\n",
    "        product_frame = pd.concat([temp_frame, temp_frame1, temp_frame2], ignore_index=True)\n",
    "        \n",
    "        product_frame['order_year'] = product_frame['order_date'].dt.year\n",
    "        product_frame['order_month'] = product_frame['order_date'].dt.month\n",
    "        product_frame['order_day'] = product_frame['order_date'].dt.day\n",
    "\n",
    "        dummy = pd.get_dummies(product_frame['season'])\n",
    "        dummy.drop('Winter', axis=1, inplace=True)\n",
    "\n",
    "        product_frame = pd.concat([product_frame, dummy], axis=1)\n",
    "        product_frame.drop(['order_date', 'product_id', 'season'], axis=1, inplace=True)\n",
    "\n",
    "        # 60% train, 20% validation, 20% test \n",
    "        train, validate, test = np.split(product_frame.sample(frac=1), [int(.6*len(product_frame)), int(.8*len(product_frame))])\n",
    "        \n",
    "        X_train, y_train = train.drop('quantities_sold', axis=1), train['quantities_sold']  \n",
    "        X_valid, y_valid = validate.drop('quantities_sold', axis=1), validate['quantities_sold'] \n",
    "        X_test, y_test = test.drop('quantities_sold', axis=1), test['quantities_sold'] \n",
    "        \n",
    "        model.fit(X_train, y_train)\n",
    "        \n",
    "        train_preds = model.predict(X_train)\n",
    "        val_preds = model.predict(X_valid)\n",
    "        tes_preds = model.predict(X_test)\n",
    "\n",
    "        info['product_id'] = [i]\n",
    "        info['training size (60%)'] = [len(train)]\n",
    "        info['training MAE'] = [mean_absolute_error(y_train, train_preds)]\n",
    "        info['training RMSLE'] = [np.sqrt(mean_squared_log_error(y_train, train_preds))]\n",
    "        info['training r2'] = [r2_score(y_train, train_preds)]\n",
    "\n",
    "        info['validation size (20%)'] = [len(validate)]\n",
    "        info['vaild MAE'] = [mean_absolute_error(y_valid, val_preds)]\n",
    "        info['valid RMSLE'] = [np.sqrt(mean_squared_log_error(y_valid, val_preds))]\n",
    "        # info['valid r2'] = [r2_score(y_valid, val_preds)]\n",
    "\n",
    "        info['test size (20%)'] = [len(test)]\n",
    "        info['test MAE'] = [mean_absolute_error(y_test, tes_preds)]\n",
    "        info['test RMSLE'] = [np.sqrt(mean_squared_log_error(y_test, tes_preds))]\n",
    "        # info['test r2'] = [r2_score(y_test, tes_preds)]\n",
    "\n",
    "        frames_list.append(pd.DataFrame(info))\n",
    "    \n",
    "    pd.concat(frames_list, ignore_index=True).to_excel('random forest regression with '+ str(estimatores_num) +' estimators.xlsx')\n"
   ]
  },
  {
   "cell_type": "code",
   "execution_count": 31,
   "id": "1347e559",
   "metadata": {},
   "outputs": [],
   "source": [
    "test = new_monthly_df.copy()\n",
    "\n",
    "test = pd.concat([season_of_date(test[(test['order_date'] > '01/01/2019') & (test['order_date'] <= '12/31/2019')],2019),\n",
    "                  season_of_date(test[(test['order_date'] > '01/01/2020') & (test['order_date'] <= '12/31/2020')],2020),\n",
    "                  season_of_date(test[(test['order_date'] > '01/01/2021') & (test['order_date'] <= '12/31/2021')],2021)], ignore_index=True)\n",
    "test = test.sort_values(by='product_id')\n",
    "test.to_csv('monthly data.csv')"
   ]
  },
  {
   "cell_type": "code",
   "execution_count": null,
   "id": "4348c604",
   "metadata": {},
   "outputs": [],
   "source": [
    "test = new_weekly_df.copy()\n",
    "\n",
    "test = pd.concat([season_of_date(test[(test['order_date'] > '01/01/2019') & (test['order_date'] <= '12/31/2019')],2019),\n",
    "                  season_of_date(test[(test['order_date'] > '01/01/2020') & (test['order_date'] <= '12/31/2020')],2020),\n",
    "                  season_of_date(test[(test['order_date'] > '01/01/2021') & (test['order_date'] <= '12/31/2021')],2021)], ignore_index=True)\n",
    "test = test.sort_values(by='product_id')\n",
    "test.to_csv('weekly data.csv')"
   ]
  },
  {
   "cell_type": "code",
   "execution_count": 32,
   "id": "0cd0ddb3",
   "metadata": {},
   "outputs": [
    {
     "data": {
      "text/html": [
       "<div>\n",
       "<style scoped>\n",
       "    .dataframe tbody tr th:only-of-type {\n",
       "        vertical-align: middle;\n",
       "    }\n",
       "\n",
       "    .dataframe tbody tr th {\n",
       "        vertical-align: top;\n",
       "    }\n",
       "\n",
       "    .dataframe thead th {\n",
       "        text-align: right;\n",
       "    }\n",
       "</style>\n",
       "<table border=\"1\" class=\"dataframe\">\n",
       "  <thead>\n",
       "    <tr style=\"text-align: right;\">\n",
       "      <th></th>\n",
       "      <th>order_date</th>\n",
       "      <th>product_id</th>\n",
       "      <th>quantities_sold</th>\n",
       "      <th>season</th>\n",
       "    </tr>\n",
       "  </thead>\n",
       "  <tbody>\n",
       "    <tr>\n",
       "      <th>12513</th>\n",
       "      <td>2021-08-31</td>\n",
       "      <td>8</td>\n",
       "      <td>6559.000</td>\n",
       "      <td>Summer</td>\n",
       "    </tr>\n",
       "    <tr>\n",
       "      <th>12515</th>\n",
       "      <td>2021-10-31</td>\n",
       "      <td>8</td>\n",
       "      <td>8212.500</td>\n",
       "      <td>Autumn</td>\n",
       "    </tr>\n",
       "    <tr>\n",
       "      <th>12514</th>\n",
       "      <td>2021-09-30</td>\n",
       "      <td>8</td>\n",
       "      <td>6793.000</td>\n",
       "      <td>Autumn</td>\n",
       "    </tr>\n",
       "    <tr>\n",
       "      <th>2451</th>\n",
       "      <td>2020-12-31</td>\n",
       "      <td>8</td>\n",
       "      <td>3107.330</td>\n",
       "      <td>Winter</td>\n",
       "    </tr>\n",
       "    <tr>\n",
       "      <th>12512</th>\n",
       "      <td>2021-07-31</td>\n",
       "      <td>8</td>\n",
       "      <td>5704.010</td>\n",
       "      <td>Summer</td>\n",
       "    </tr>\n",
       "  </tbody>\n",
       "</table>\n",
       "</div>"
      ],
      "text/plain": [
       "      order_date  product_id  quantities_sold  season\n",
       "12513 2021-08-31           8         6559.000  Summer\n",
       "12515 2021-10-31           8         8212.500  Autumn\n",
       "12514 2021-09-30           8         6793.000  Autumn\n",
       "2451  2020-12-31           8         3107.330  Winter\n",
       "12512 2021-07-31           8         5704.010  Summer"
      ]
     },
     "execution_count": 32,
     "metadata": {},
     "output_type": "execute_result"
    }
   ],
   "source": [
    "test.head()"
   ]
  },
  {
   "cell_type": "markdown",
   "id": "9276aa29",
   "metadata": {},
   "source": [
    "# (testing) apply linear regression on each product sparatedly"
   ]
  },
  {
   "cell_type": "code",
   "execution_count": 6,
   "id": "31467ca8",
   "metadata": {},
   "outputs": [
    {
     "data": {
      "text/html": [
       "<div>\n",
       "<style scoped>\n",
       "    .dataframe tbody tr th:only-of-type {\n",
       "        vertical-align: middle;\n",
       "    }\n",
       "\n",
       "    .dataframe tbody tr th {\n",
       "        vertical-align: top;\n",
       "    }\n",
       "\n",
       "    .dataframe thead th {\n",
       "        text-align: right;\n",
       "    }\n",
       "</style>\n",
       "<table border=\"1\" class=\"dataframe\">\n",
       "  <thead>\n",
       "    <tr style=\"text-align: right;\">\n",
       "      <th></th>\n",
       "      <th>order_date</th>\n",
       "      <th>product_id</th>\n",
       "      <th>quantities_sold</th>\n",
       "    </tr>\n",
       "  </thead>\n",
       "  <tbody>\n",
       "    <tr>\n",
       "      <th>0</th>\n",
       "      <td>2021-01-03</td>\n",
       "      <td>8</td>\n",
       "      <td>569.000</td>\n",
       "    </tr>\n",
       "    <tr>\n",
       "      <th>1</th>\n",
       "      <td>2020-04-19</td>\n",
       "      <td>8</td>\n",
       "      <td>94.000</td>\n",
       "    </tr>\n",
       "    <tr>\n",
       "      <th>2</th>\n",
       "      <td>2020-04-12</td>\n",
       "      <td>8</td>\n",
       "      <td>318.000</td>\n",
       "    </tr>\n",
       "    <tr>\n",
       "      <th>3</th>\n",
       "      <td>2020-04-05</td>\n",
       "      <td>8</td>\n",
       "      <td>124.000</td>\n",
       "    </tr>\n",
       "    <tr>\n",
       "      <th>4</th>\n",
       "      <td>2020-03-29</td>\n",
       "      <td>8</td>\n",
       "      <td>156.000</td>\n",
       "    </tr>\n",
       "  </tbody>\n",
       "</table>\n",
       "</div>"
      ],
      "text/plain": [
       "  order_date  product_id  quantities_sold\n",
       "0 2021-01-03           8          569.000\n",
       "1 2020-04-19           8           94.000\n",
       "2 2020-04-12           8          318.000\n",
       "3 2020-04-05           8          124.000\n",
       "4 2020-03-29           8          156.000"
      ]
     },
     "execution_count": 6,
     "metadata": {},
     "output_type": "execute_result"
    }
   ],
   "source": [
    "df = pd.read_csv('weekly data.csv')\n",
    "df['order_date'] = pd.to_datetime(df['order_date'])\n",
    "df.drop('season', axis=1, inplace=True)\n",
    "\n",
    "df.head()"
   ]
  },
  {
   "cell_type": "code",
   "execution_count": 8,
   "id": "fdec6c1b",
   "metadata": {},
   "outputs": [],
   "source": [
    "cor_list = list()\n",
    "list_cor = list()\n",
    "for i in df['product_id'].unique():\n",
    "    info = dict()\n",
    "    temp_f = df[df['product_id'] == i]\n",
    "\n",
    "    temp_f['date'] = pd.to_numeric(temp_f['order_date'])\n",
    "    temp_f['target'] = temp_f['quantities_sold']\n",
    "\n",
    "    temp_f.drop(['order_date', 'product_id', 'quantities_sold'], axis=1, inplace=True)\n",
    "    cor = temp_f.corr()\n",
    "\n",
    "    info['product_id'] = [i]\n",
    "    info['correlation with date'] = ['{:.2f}'.format(cor['date'][1])]\n",
    "    \n",
    "    if np.abs(cor['date'][1]) < 0.50:\n",
    "        df.drop(df[df['product_id'] == i].index, inplace=True)\n",
    "        \n",
    "    list_cor.append(cor['date'][1])\n",
    "    cor_list.append(pd.DataFrame(info))\n",
    "pd.concat(cor_list, ignore_index=True).to_csv('correlation with date.csv', index=False)"
   ]
  },
  {
   "cell_type": "code",
   "execution_count": null,
   "id": "abd5fe6a",
   "metadata": {},
   "outputs": [],
   "source": [
    "flag = ''\n",
    "for i in df['product_id'].unique():\n",
    "    te = df[df['product_id'] == i]\n",
    "    te.drop('product_id', axis=1, inplace=True)\n",
    "\n",
    "    fig = px.scatter(te, x='order_date', y='quantities_sold', title='product ' + str(i))\n",
    "    fig.show()\n",
    "\n",
    "    flag = input('continue y/n')\n",
    "\n",
    "    if flag == 'n':\n",
    "        break\n",
    "\n"
   ]
  },
  {
   "cell_type": "code",
   "execution_count": 32,
   "id": "a1ed8694",
   "metadata": {},
   "outputs": [
    {
     "data": {
      "text/html": [
       "<div>\n",
       "<style scoped>\n",
       "    .dataframe tbody tr th:only-of-type {\n",
       "        vertical-align: middle;\n",
       "    }\n",
       "\n",
       "    .dataframe tbody tr th {\n",
       "        vertical-align: top;\n",
       "    }\n",
       "\n",
       "    .dataframe thead th {\n",
       "        text-align: right;\n",
       "    }\n",
       "</style>\n",
       "<table border=\"1\" class=\"dataframe\">\n",
       "  <thead>\n",
       "    <tr style=\"text-align: right;\">\n",
       "      <th></th>\n",
       "      <th>order_date</th>\n",
       "      <th>quantities_sold</th>\n",
       "    </tr>\n",
       "  </thead>\n",
       "  <tbody>\n",
       "    <tr>\n",
       "      <th>818</th>\n",
       "      <td>-1.714</td>\n",
       "      <td>30.000</td>\n",
       "    </tr>\n",
       "    <tr>\n",
       "      <th>808</th>\n",
       "      <td>-1.685</td>\n",
       "      <td>8.000</td>\n",
       "    </tr>\n",
       "    <tr>\n",
       "      <th>809</th>\n",
       "      <td>-1.656</td>\n",
       "      <td>7.000</td>\n",
       "    </tr>\n",
       "    <tr>\n",
       "      <th>810</th>\n",
       "      <td>-1.628</td>\n",
       "      <td>8.000</td>\n",
       "    </tr>\n",
       "    <tr>\n",
       "      <th>811</th>\n",
       "      <td>-1.599</td>\n",
       "      <td>15.000</td>\n",
       "    </tr>\n",
       "  </tbody>\n",
       "</table>\n",
       "</div>"
      ],
      "text/plain": [
       "     order_date  quantities_sold\n",
       "818      -1.714           30.000\n",
       "808      -1.685            8.000\n",
       "809      -1.656            7.000\n",
       "810      -1.628            8.000\n",
       "811      -1.599           15.000"
      ]
     },
     "execution_count": 32,
     "metadata": {},
     "output_type": "execute_result"
    }
   ],
   "source": [
    "from sklearn.preprocessing import StandardScaler\n",
    "tx = df[df['product_id'] == 15]\n",
    "tx = tx.sort_values(by='order_date')\n",
    "tx.drop('product_id', axis=1, inplace=True)\n",
    "\n",
    "tx['order_date'] = pd.to_numeric(tx['order_date'])\n",
    "sc = StandardScaler()\n",
    "u = sc.fit_transform(np.array(tx['order_date']).reshape(-1, 1))\n",
    "\n",
    "\n",
    "tx['order_date'] = u\n",
    "tx.head()"
   ]
  },
  {
   "cell_type": "code",
   "execution_count": 33,
   "id": "06d5e0d3",
   "metadata": {},
   "outputs": [
    {
     "data": {
      "text/plain": [
       "112"
      ]
     },
     "execution_count": 33,
     "metadata": {},
     "output_type": "execute_result"
    }
   ],
   "source": [
    "test_set = tx.tail(8)\n",
    "tx.drop(tx.tail(8).index, inplace=True)\n",
    "\n",
    "len(tx)"
   ]
  },
  {
   "cell_type": "code",
   "execution_count": 34,
   "id": "0fcaabad",
   "metadata": {},
   "outputs": [
    {
     "data": {
      "text/plain": [
       "(112, 8, 112, 8)"
      ]
     },
     "execution_count": 34,
     "metadata": {},
     "output_type": "execute_result"
    }
   ],
   "source": [
    "X_train = tx.drop('quantities_sold', axis=1)\n",
    "y_train = tx['quantities_sold']\n",
    "\n",
    "X_test = test_set.drop('quantities_sold', axis=1)\n",
    "y_test = test_set['quantities_sold']\n",
    "\n",
    "len(X_train), len(X_test), len(y_train), len(y_test)"
   ]
  },
  {
   "cell_type": "code",
   "execution_count": 22,
   "id": "42701ebe",
   "metadata": {},
   "outputs": [],
   "source": [
    "from sklearn.linear_model import LinearRegression"
   ]
  },
  {
   "cell_type": "code",
   "execution_count": 25,
   "id": "b34d5c88",
   "metadata": {},
   "outputs": [],
   "source": [
    "from sklearn.model_selection import cross_val_score\n",
    "from sklearn.model_selection import KFold\n",
    "import statsmodels.api as sm"
   ]
  },
  {
   "cell_type": "code",
   "execution_count": 27,
   "id": "0eff9cbc",
   "metadata": {},
   "outputs": [],
   "source": [
    "from sklearn.metrics import mean_squared_error, mean_absolute_error"
   ]
  },
  {
   "cell_type": "code",
   "execution_count": 35,
   "id": "0887d3a1",
   "metadata": {},
   "outputs": [
    {
     "data": {
      "text/plain": [
       "LinearRegression()"
      ]
     },
     "execution_count": 35,
     "metadata": {},
     "output_type": "execute_result"
    }
   ],
   "source": [
    "lin = LinearRegression()\n",
    "lin.fit(X_train, y_train)"
   ]
  },
  {
   "cell_type": "code",
   "execution_count": 36,
   "id": "b478c203",
   "metadata": {},
   "outputs": [
    {
     "data": {
      "text/plain": [
       "0.6076890395794718"
      ]
     },
     "execution_count": 36,
     "metadata": {},
     "output_type": "execute_result"
    }
   ],
   "source": [
    "lin.score(X_train, y_train)"
   ]
  },
  {
   "cell_type": "code",
   "execution_count": null,
   "id": "d53dc624",
   "metadata": {},
   "outputs": [],
   "source": [
    "X2 = sm.add_constant(X_train)\n",
    "est = sm.OLS(y_train, X2)\n",
    "est2 = est.fit()\n",
    "print(est2.summary())"
   ]
  },
  {
   "cell_type": "code",
   "execution_count": 38,
   "id": "19742d0e",
   "metadata": {},
   "outputs": [
    {
     "data": {
      "text/plain": [
       "(1732.4165124933716, 3327402.0323536457)"
      ]
     },
     "execution_count": 38,
     "metadata": {},
     "output_type": "execute_result"
    }
   ],
   "source": [
    "y_pred = lin.predict(X_test)\n",
    "\n",
    "mean_absolute_error(y_test, y_pred), mean_squared_error(y_test, y_pred)"
   ]
  },
  {
   "cell_type": "code",
   "execution_count": 39,
   "id": "006f1125",
   "metadata": {},
   "outputs": [
    {
     "data": {
      "text/plain": [
       "-0.14391798897160601"
      ]
     },
     "execution_count": 39,
     "metadata": {},
     "output_type": "execute_result"
    }
   ],
   "source": [
    "lin.score(X_test, y_test)"
   ]
  },
  {
   "cell_type": "code",
   "execution_count": null,
   "id": "40f856bf",
   "metadata": {},
   "outputs": [],
   "source": [
    "error = y_test - y_pred\n",
    "\n",
    "fig = px.histogram(error, nbins=20,title='Weekly MAE (Linear regression)', text_auto=True)\n",
    "fig.update_layout(bargap=0.4)\n",
    "fig.update_xaxes(title_text='MAE')\n",
    "fig.update_yaxes(title_text='Count')\n",
    "fig.show()"
   ]
  }
 ],
 "metadata": {
  "kernelspec": {
   "display_name": "base",
   "language": "python",
   "name": "python3"
  },
  "language_info": {
   "codemirror_mode": {
    "name": "ipython",
    "version": 3
   },
   "file_extension": ".py",
   "mimetype": "text/x-python",
   "name": "python",
   "nbconvert_exporter": "python",
   "pygments_lexer": "ipython3",
   "version": "3.9.12 (main, Apr  4 2022, 05:22:27) [MSC v.1916 64 bit (AMD64)]"
  },
  "vscode": {
   "interpreter": {
    "hash": "20a9e06a1eee47c4abbed4ec8225ad91d78d9800d202b71b6b0a6e47016c6abd"
   }
  }
 },
 "nbformat": 4,
 "nbformat_minor": 5
}
