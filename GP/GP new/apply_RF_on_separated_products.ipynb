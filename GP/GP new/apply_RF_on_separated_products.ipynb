{
 "cells": [
  {
   "cell_type": "markdown",
   "metadata": {},
   "source": [
    "## DEVELOPING A FORECASTING MODEL USING BUSINESS INTELLIGENCE TOOLS (BI)"
   ]
  },
  {
   "cell_type": "markdown",
   "metadata": {},
   "source": [
    "## Apply random forest regression on each product separatedly "
   ]
  },
  {
   "cell_type": "code",
   "execution_count": 1,
   "metadata": {},
   "outputs": [],
   "source": [
    "import warnings\n",
    "import numpy as np\n",
    "import pandas as pd\n",
    "import plotly.express as px\n",
    "from sklearn.preprocessing import StandardScaler\n",
    "from sklearn.ensemble import RandomForestRegressor\n",
    "from sklearn.metrics import mean_squared_error\n",
    "\n",
    "pd.options.display.width = None\n",
    "warnings.filterwarnings('ignore')\n",
    "pd.options.display.max_rows = None\n",
    "pd.set_option('display.float_format', lambda x: '%.5f' % x)  # format numeric outputs"
   ]
  },
  {
   "cell_type": "code",
   "execution_count": 2,
   "metadata": {},
   "outputs": [],
   "source": [
    "def generate_date_range(date_scaler, start_date, periods_num):\n",
    "\n",
    "    dates = pd.date_range(start=start_date, periods=periods_num, freq='7D')\n",
    "    dates = pd.to_numeric(dates)\n",
    "    dates = date_scaler.transform(np.array(dates).reshape(-1,1))\n",
    "\n",
    "    return dates"
   ]
  },
  {
   "cell_type": "code",
   "execution_count": 3,
   "metadata": {},
   "outputs": [],
   "source": [
    "def get_date_range(start_date, periods_num):\n",
    "\n",
    "    dates = pd.date_range(start = start_date, periods=periods_num, freq='7D')\n",
    "    dates = pd.to_datetime(dates)\n",
    "\n",
    "    return dates"
   ]
  },
  {
   "cell_type": "code",
   "execution_count": 4,
   "metadata": {},
   "outputs": [],
   "source": [
    "df = pd.read_csv(\"weekly data.csv\")\n",
    "df['order_date'] = pd.to_datetime(df['order_date'])"
   ]
  },
  {
   "cell_type": "code",
   "execution_count": 5,
   "metadata": {},
   "outputs": [
    {
     "data": {
      "text/html": [
       "<div>\n",
       "<style scoped>\n",
       "    .dataframe tbody tr th:only-of-type {\n",
       "        vertical-align: middle;\n",
       "    }\n",
       "\n",
       "    .dataframe tbody tr th {\n",
       "        vertical-align: top;\n",
       "    }\n",
       "\n",
       "    .dataframe thead th {\n",
       "        text-align: right;\n",
       "    }\n",
       "</style>\n",
       "<table border=\"1\" class=\"dataframe\">\n",
       "  <thead>\n",
       "    <tr style=\"text-align: right;\">\n",
       "      <th></th>\n",
       "      <th>order_date</th>\n",
       "      <th>product_id</th>\n",
       "      <th>quantities_sold</th>\n",
       "      <th>season</th>\n",
       "    </tr>\n",
       "  </thead>\n",
       "  <tbody>\n",
       "    <tr>\n",
       "      <th>0</th>\n",
       "      <td>2019-09-01</td>\n",
       "      <td>8</td>\n",
       "      <td>4.00000</td>\n",
       "      <td>Summer</td>\n",
       "    </tr>\n",
       "    <tr>\n",
       "      <th>1</th>\n",
       "      <td>2019-09-08</td>\n",
       "      <td>8</td>\n",
       "      <td>3.00000</td>\n",
       "      <td>Summer</td>\n",
       "    </tr>\n",
       "    <tr>\n",
       "      <th>2</th>\n",
       "      <td>2019-09-15</td>\n",
       "      <td>8</td>\n",
       "      <td>0.00000</td>\n",
       "      <td>Summer</td>\n",
       "    </tr>\n",
       "    <tr>\n",
       "      <th>3</th>\n",
       "      <td>2019-09-22</td>\n",
       "      <td>8</td>\n",
       "      <td>2.00000</td>\n",
       "      <td>Summer</td>\n",
       "    </tr>\n",
       "    <tr>\n",
       "      <th>4</th>\n",
       "      <td>2019-09-29</td>\n",
       "      <td>8</td>\n",
       "      <td>2.00000</td>\n",
       "      <td>Autumn</td>\n",
       "    </tr>\n",
       "  </tbody>\n",
       "</table>\n",
       "</div>"
      ],
      "text/plain": [
       "  order_date  product_id  quantities_sold  season\n",
       "0 2019-09-01           8          4.00000  Summer\n",
       "1 2019-09-08           8          3.00000  Summer\n",
       "2 2019-09-15           8          0.00000  Summer\n",
       "3 2019-09-22           8          2.00000  Summer\n",
       "4 2019-09-29           8          2.00000  Autumn"
      ]
     },
     "execution_count": 5,
     "metadata": {},
     "output_type": "execute_result"
    }
   ],
   "source": [
    "frames = list()\n",
    "\n",
    "for i in df['product_id'].unique():\n",
    "    frame = df[df['product_id'] == i]\n",
    "    frame = frame.sort_values(by='order_date')\n",
    "    frames.append(frame)\n",
    "\n",
    "df = pd.concat(frames, ignore_index=True)\n",
    "df.head()"
   ]
  },
  {
   "cell_type": "code",
   "execution_count": 6,
   "metadata": {},
   "outputs": [],
   "source": [
    "cor_list = list()\n",
    "list_cor = list()\n",
    "for i in df['product_id'].unique():\n",
    "    info = dict()\n",
    "    temp_f = df[df['product_id'] == i]\n",
    "\n",
    "    temp_f['date'] = pd.to_datetime(temp_f['order_date'])\n",
    "    temp_f['date'] = pd.to_numeric(temp_f['date'])\n",
    "    temp_f['target'] = temp_f['quantities_sold']\n",
    "\n",
    "    temp_f.drop(['order_date', 'product_id', 'season', 'quantities_sold'], axis=1, inplace=True)\n",
    "    cor = temp_f.corr()\n",
    "\n",
    "    info['product_id'] = [i]\n",
    "    info['correlation with date'] = ['{:.2f}'.format(cor['date'][1])]\n",
    "    \n",
    "    if np.abs(cor['date'][1]) < 0.50:\n",
    "        df.drop(df[df['product_id'] == i].index, inplace=True)\n",
    "        \n",
    "    list_cor.append(cor['date'][1])\n",
    "    cor_list.append(pd.DataFrame(info))\n",
    "pd.concat(cor_list, ignore_index=True).to_csv('correlation with date.csv', index=False)"
   ]
  },
  {
   "cell_type": "code",
   "execution_count": null,
   "metadata": {},
   "outputs": [],
   "source": [
    "fig = px.histogram(list_cor, nbins=20,title='Products correlation with date', text_auto=True)\n",
    "fig.update_layout(bargap=0.4)\n",
    "fig.update_xaxes(title_text='Correlation')\n",
    "fig.update_yaxes(title_text='Count')\n",
    "fig.show()"
   ]
  },
  {
   "cell_type": "code",
   "execution_count": 6,
   "metadata": {},
   "outputs": [
    {
     "data": {
      "text/html": [
       "<div>\n",
       "<style scoped>\n",
       "    .dataframe tbody tr th:only-of-type {\n",
       "        vertical-align: middle;\n",
       "    }\n",
       "\n",
       "    .dataframe tbody tr th {\n",
       "        vertical-align: top;\n",
       "    }\n",
       "\n",
       "    .dataframe thead th {\n",
       "        text-align: right;\n",
       "    }\n",
       "</style>\n",
       "<table border=\"1\" class=\"dataframe\">\n",
       "  <thead>\n",
       "    <tr style=\"text-align: right;\">\n",
       "      <th></th>\n",
       "      <th>order_date</th>\n",
       "      <th>product_id</th>\n",
       "      <th>quantities_sold</th>\n",
       "    </tr>\n",
       "  </thead>\n",
       "  <tbody>\n",
       "    <tr>\n",
       "      <th>0</th>\n",
       "      <td>2019-09-01</td>\n",
       "      <td>8</td>\n",
       "      <td>4.00000</td>\n",
       "    </tr>\n",
       "    <tr>\n",
       "      <th>1</th>\n",
       "      <td>2019-09-08</td>\n",
       "      <td>8</td>\n",
       "      <td>3.00000</td>\n",
       "    </tr>\n",
       "    <tr>\n",
       "      <th>2</th>\n",
       "      <td>2019-09-15</td>\n",
       "      <td>8</td>\n",
       "      <td>0.00000</td>\n",
       "    </tr>\n",
       "    <tr>\n",
       "      <th>3</th>\n",
       "      <td>2019-09-22</td>\n",
       "      <td>8</td>\n",
       "      <td>2.00000</td>\n",
       "    </tr>\n",
       "    <tr>\n",
       "      <th>4</th>\n",
       "      <td>2019-09-29</td>\n",
       "      <td>8</td>\n",
       "      <td>2.00000</td>\n",
       "    </tr>\n",
       "  </tbody>\n",
       "</table>\n",
       "</div>"
      ],
      "text/plain": [
       "  order_date  product_id  quantities_sold\n",
       "0 2019-09-01           8          4.00000\n",
       "1 2019-09-08           8          3.00000\n",
       "2 2019-09-15           8          0.00000\n",
       "3 2019-09-22           8          2.00000\n",
       "4 2019-09-29           8          2.00000"
      ]
     },
     "execution_count": 6,
     "metadata": {},
     "output_type": "execute_result"
    }
   ],
   "source": [
    "df.drop('season', axis=1, inplace=True)\n",
    "df.head()"
   ]
  },
  {
   "cell_type": "code",
   "execution_count": 13,
   "metadata": {},
   "outputs": [
    {
     "data": {
      "text/html": [
       "<div>\n",
       "<style scoped>\n",
       "    .dataframe tbody tr th:only-of-type {\n",
       "        vertical-align: middle;\n",
       "    }\n",
       "\n",
       "    .dataframe tbody tr th {\n",
       "        vertical-align: top;\n",
       "    }\n",
       "\n",
       "    .dataframe thead th {\n",
       "        text-align: right;\n",
       "    }\n",
       "</style>\n",
       "<table border=\"1\" class=\"dataframe\">\n",
       "  <thead>\n",
       "    <tr style=\"text-align: right;\">\n",
       "      <th></th>\n",
       "      <th>order_date</th>\n",
       "      <th>product_id</th>\n",
       "      <th>quantities_sold</th>\n",
       "    </tr>\n",
       "  </thead>\n",
       "  <tbody>\n",
       "    <tr>\n",
       "      <th>0</th>\n",
       "      <td>2019-09-01</td>\n",
       "      <td>8</td>\n",
       "      <td>4.00000</td>\n",
       "    </tr>\n",
       "    <tr>\n",
       "      <th>1</th>\n",
       "      <td>2019-09-08</td>\n",
       "      <td>8</td>\n",
       "      <td>3.00000</td>\n",
       "    </tr>\n",
       "    <tr>\n",
       "      <th>2</th>\n",
       "      <td>2019-09-15</td>\n",
       "      <td>8</td>\n",
       "      <td>0.00000</td>\n",
       "    </tr>\n",
       "    <tr>\n",
       "      <th>3</th>\n",
       "      <td>2019-09-22</td>\n",
       "      <td>8</td>\n",
       "      <td>2.00000</td>\n",
       "    </tr>\n",
       "    <tr>\n",
       "      <th>4</th>\n",
       "      <td>2019-09-29</td>\n",
       "      <td>8</td>\n",
       "      <td>2.00000</td>\n",
       "    </tr>\n",
       "  </tbody>\n",
       "</table>\n",
       "</div>"
      ],
      "text/plain": [
       "  order_date  product_id  quantities_sold\n",
       "0 2019-09-01           8          4.00000\n",
       "1 2019-09-08           8          3.00000\n",
       "2 2019-09-15           8          0.00000\n",
       "3 2019-09-22           8          2.00000\n",
       "4 2019-09-29           8          2.00000"
      ]
     },
     "execution_count": 13,
     "metadata": {},
     "output_type": "execute_result"
    }
   ],
   "source": [
    "df1 = df.copy()\n",
    "df1.head()"
   ]
  },
  {
   "cell_type": "code",
   "execution_count": 7,
   "metadata": {},
   "outputs": [],
   "source": [
    "def plot_results(data_frame, model, scaler1, scaler2, product_id, p_num):\n",
    "    frame = data_frame\n",
    "    p_frame = frame[frame['product_id'] == product_id]\n",
    "    p_frame['order_date'] = pd.to_datetime(p_frame['order_date'])\n",
    "    p_frame = p_frame.sort_values(by='order_date')\n",
    "\n",
    "    date = generate_date_range(scaler1, p_frame['order_date'].iloc[0], len(p_frame) + p_num)\n",
    "    \n",
    "    row = list()\n",
    "    predicted_values = list()\n",
    "    for j in date:\n",
    "        row.append(j)\n",
    "        arr = np.array(row).reshape(1, -1)\n",
    "        predicted_values.append(scaler2.inverse_transform(np.array(model.predict(arr)[0]).reshape(1, -1))[0][0])\n",
    "        row.clear()\n",
    "    dates = get_date_range(p_frame['order_date'].iloc[0], len(p_frame) + p_num) \n",
    "    fig = px.line(x=p_frame['order_date'], y= p_frame['quantities_sold'], title='predicted values for prodcut id ' + str(product_id))\n",
    "    fig.add_scatter(x=dates, y=predicted_values, name='predicted') \n",
    "    fig.update_xaxes(title='date (weeks)')\n",
    "    fig.update_yaxes(title='quantity')\n",
    "    fig.show()"
   ]
  },
  {
   "cell_type": "code",
   "execution_count": 8,
   "metadata": {},
   "outputs": [],
   "source": [
    "def forecast_one_product(weekly_df, product_id):\n",
    "\n",
    "    one_product = weekly_df[weekly_df['product_id'] == product_id]\n",
    "    one_product = one_product.sort_values(by='order_date')\n",
    "\n",
    "    sc1 = StandardScaler()\n",
    "    sc2 = StandardScaler()\n",
    "\n",
    "    sc1.fit(np.array(one_product['order_date']).reshape(-1, 1))\n",
    "    sc2.fit(np.array(one_product['quantities_sold']).reshape(-1, 1))\n",
    "    one_product.drop('product_id', axis=1, inplace=True)\n",
    "\n",
    "    temp = sc1.transform(np.array(one_product['order_date']).reshape(-1,1))\n",
    "    temp = pd.DataFrame(temp)\n",
    "    temp.rename(columns={0:'order_date'}, inplace=True)\n",
    "\n",
    "    new_df = pd.DataFrame()\n",
    "    new_df = pd.concat([new_df, temp], axis=1)\n",
    "    new_df['target'] = sc2.transform(np.array(one_product['quantities_sold']).reshape(-1,1)) \n",
    "\n",
    "    X_train = new_df.drop('target', axis=1)\n",
    "    y_train = new_df['target']\n",
    "\n",
    "    estimators = [i for i in range(50, 300, 10)]\n",
    "    MSE_values = []\n",
    "\n",
    "    for i in estimators:\n",
    "        regressor = RandomForestRegressor(n_estimators=i, n_jobs=-1, random_state=42)\n",
    "        regressor.fit(X_train, y_train)\n",
    "        y_pred = regressor.predict(X_train)\n",
    "        MSE = sc2.inverse_transform(np.array(mean_squared_error(y_train, y_pred)).reshape(1, -1))[0][0]\n",
    "        MSE_values.append(MSE)\n",
    "\n",
    "    regressor = RandomForestRegressor(n_estimators=estimators[MSE_values.index(np.min(MSE_values))], n_jobs=-1, random_state=42)\n",
    "    regressor.fit(X_train, y_train)\n",
    "    MSE = sc2.inverse_transform(np.array(mean_squared_error(y_train, y_pred)).reshape(1, -1))[0][0]\n",
    "    \n",
    "    print('Optimal got with {} esimators'.format(estimators[MSE_values.index(np.min(MSE_values))]))\n",
    "    print('Training R^2 = {}'.format(regressor.score(X_train, y_train)))\n",
    "    print('MSE = {}'.format(MSE))\n",
    "\n",
    "    return regressor, sc1, sc2, product_id\n"
   ]
  },
  {
   "cell_type": "code",
   "execution_count": null,
   "metadata": {},
   "outputs": [],
   "source": [
    "for i in df['product_id'].unique():\n",
    "    print(i)"
   ]
  },
  {
   "cell_type": "code",
   "execution_count": 15,
   "metadata": {},
   "outputs": [
    {
     "name": "stdout",
     "output_type": "stream",
     "text": [
      "Optimal got with 70 esimators\n",
      "Training R^2 = 0.9569154669283246\n",
      "MSE = 2060.581187667448\n"
     ]
    }
   ],
   "source": [
    "product_model, scale1, scale2, prod_id = forecast_one_product(df, 15)  # df, product_id"
   ]
  },
  {
   "cell_type": "code",
   "execution_count": null,
   "metadata": {},
   "outputs": [],
   "source": [
    "plot_results(df1, product_model, scale1, scale2, prod_id, 3)  # number predicted values"
   ]
  },
  {
   "cell_type": "code",
   "execution_count": null,
   "metadata": {},
   "outputs": [],
   "source": [
    "for i in df['product_id'].unique():\n",
    "    product_model, scale1, scale2, prod_id = forecast_one_product(df, i)\n",
    "    plot_results(df1, product_model, scale1, scale2, prod_id, 5)\n",
    "    "
   ]
  }
 ],
 "metadata": {
  "kernelspec": {
   "display_name": "base",
   "language": "python",
   "name": "python3"
  },
  "language_info": {
   "codemirror_mode": {
    "name": "ipython",
    "version": 3
   },
   "file_extension": ".py",
   "mimetype": "text/x-python",
   "name": "python",
   "nbconvert_exporter": "python",
   "pygments_lexer": "ipython3",
   "version": "3.9.12"
  },
  "orig_nbformat": 4,
  "vscode": {
   "interpreter": {
    "hash": "20a9e06a1eee47c4abbed4ec8225ad91d78d9800d202b71b6b0a6e47016c6abd"
   }
  }
 },
 "nbformat": 4,
 "nbformat_minor": 2
}
