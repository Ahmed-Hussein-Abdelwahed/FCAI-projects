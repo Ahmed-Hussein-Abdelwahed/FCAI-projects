{
 "cells": [
  {
   "cell_type": "code",
   "execution_count": 1,
   "metadata": {},
   "outputs": [],
   "source": [
    "import warnings\n",
    "import pandas as pd\n",
    "from prophet import Prophet\n",
    "from prophet.plot import plot_plotly, plot_components_plotly\n",
    "warnings.filterwarnings(\"ignore\")"
   ]
  },
  {
   "cell_type": "code",
   "execution_count": 2,
   "metadata": {},
   "outputs": [],
   "source": [
    "df = pd.read_csv('weekly data.csv')\n",
    "df.drop('season', axis=1, inplace=True)\n",
    "df['order_date'] = pd.to_datetime(df['order_date'])"
   ]
  },
  {
   "cell_type": "code",
   "execution_count": 3,
   "metadata": {},
   "outputs": [
    {
     "data": {
      "text/html": [
       "<div>\n",
       "<style scoped>\n",
       "    .dataframe tbody tr th:only-of-type {\n",
       "        vertical-align: middle;\n",
       "    }\n",
       "\n",
       "    .dataframe tbody tr th {\n",
       "        vertical-align: top;\n",
       "    }\n",
       "\n",
       "    .dataframe thead th {\n",
       "        text-align: right;\n",
       "    }\n",
       "</style>\n",
       "<table border=\"1\" class=\"dataframe\">\n",
       "  <thead>\n",
       "    <tr style=\"text-align: right;\">\n",
       "      <th></th>\n",
       "      <th>order_date</th>\n",
       "      <th>product_id</th>\n",
       "      <th>quantities_sold</th>\n",
       "    </tr>\n",
       "  </thead>\n",
       "  <tbody>\n",
       "    <tr>\n",
       "      <th>0</th>\n",
       "      <td>2019-09-01</td>\n",
       "      <td>8</td>\n",
       "      <td>4.0</td>\n",
       "    </tr>\n",
       "    <tr>\n",
       "      <th>1</th>\n",
       "      <td>2019-09-08</td>\n",
       "      <td>8</td>\n",
       "      <td>3.0</td>\n",
       "    </tr>\n",
       "    <tr>\n",
       "      <th>2</th>\n",
       "      <td>2019-09-15</td>\n",
       "      <td>8</td>\n",
       "      <td>0.0</td>\n",
       "    </tr>\n",
       "    <tr>\n",
       "      <th>3</th>\n",
       "      <td>2019-09-22</td>\n",
       "      <td>8</td>\n",
       "      <td>2.0</td>\n",
       "    </tr>\n",
       "    <tr>\n",
       "      <th>4</th>\n",
       "      <td>2019-09-29</td>\n",
       "      <td>8</td>\n",
       "      <td>2.0</td>\n",
       "    </tr>\n",
       "  </tbody>\n",
       "</table>\n",
       "</div>"
      ],
      "text/plain": [
       "  order_date  product_id  quantities_sold\n",
       "0 2019-09-01           8              4.0\n",
       "1 2019-09-08           8              3.0\n",
       "2 2019-09-15           8              0.0\n",
       "3 2019-09-22           8              2.0\n",
       "4 2019-09-29           8              2.0"
      ]
     },
     "execution_count": 3,
     "metadata": {},
     "output_type": "execute_result"
    }
   ],
   "source": [
    "frames = list()\n",
    "for i in df['product_id'].unique():\n",
    "    frame = df[df['product_id'] == i]\n",
    "    frame = frame.sort_values(by='order_date')\n",
    "    frames.append(frame)\n",
    "\n",
    "df = pd.concat(frames, ignore_index=True)\n",
    "df.head()"
   ]
  },
  {
   "cell_type": "code",
   "execution_count": 6,
   "metadata": {},
   "outputs": [
    {
     "data": {
      "text/html": [
       "<div>\n",
       "<style scoped>\n",
       "    .dataframe tbody tr th:only-of-type {\n",
       "        vertical-align: middle;\n",
       "    }\n",
       "\n",
       "    .dataframe tbody tr th {\n",
       "        vertical-align: top;\n",
       "    }\n",
       "\n",
       "    .dataframe thead th {\n",
       "        text-align: right;\n",
       "    }\n",
       "</style>\n",
       "<table border=\"1\" class=\"dataframe\">\n",
       "  <thead>\n",
       "    <tr style=\"text-align: right;\">\n",
       "      <th></th>\n",
       "      <th>ds</th>\n",
       "      <th>y</th>\n",
       "    </tr>\n",
       "  </thead>\n",
       "  <tbody>\n",
       "    <tr>\n",
       "      <th>0</th>\n",
       "      <td>2019-09-01</td>\n",
       "      <td>4.0</td>\n",
       "    </tr>\n",
       "    <tr>\n",
       "      <th>1</th>\n",
       "      <td>2019-09-08</td>\n",
       "      <td>3.0</td>\n",
       "    </tr>\n",
       "    <tr>\n",
       "      <th>2</th>\n",
       "      <td>2019-09-15</td>\n",
       "      <td>0.0</td>\n",
       "    </tr>\n",
       "    <tr>\n",
       "      <th>3</th>\n",
       "      <td>2019-09-22</td>\n",
       "      <td>2.0</td>\n",
       "    </tr>\n",
       "    <tr>\n",
       "      <th>4</th>\n",
       "      <td>2019-09-29</td>\n",
       "      <td>2.0</td>\n",
       "    </tr>\n",
       "  </tbody>\n",
       "</table>\n",
       "</div>"
      ],
      "text/plain": [
       "          ds    y\n",
       "0 2019-09-01  4.0\n",
       "1 2019-09-08  3.0\n",
       "2 2019-09-15  0.0\n",
       "3 2019-09-22  2.0\n",
       "4 2019-09-29  2.0"
      ]
     },
     "execution_count": 6,
     "metadata": {},
     "output_type": "execute_result"
    }
   ],
   "source": [
    "pid = 8\n",
    "\n",
    "frame = df[df['product_id'] == pid]\n",
    "frame.drop('product_id', axis=1, inplace=True)\n",
    "frame.rename(columns={'order_date':'ds', 'quantities_sold':'y'}, inplace=True)\n",
    "frame_test = frame.tail(4)\n",
    "frame = frame.drop(frame.tail(4).index)\n",
    "frame.head()"
   ]
  },
  {
   "cell_type": "code",
   "execution_count": 8,
   "metadata": {},
   "outputs": [
    {
     "name": "stderr",
     "output_type": "stream",
     "text": [
      "INFO:prophet:Disabling daily seasonality. Run prophet with daily_seasonality=True to override this.\n"
     ]
    },
    {
     "data": {
      "text/plain": [
       "<prophet.forecaster.Prophet at 0x18c3fc26ac0>"
      ]
     },
     "execution_count": 8,
     "metadata": {},
     "output_type": "execute_result"
    }
   ],
   "source": [
    "model = Prophet(weekly_seasonality=True, interval_width=0.98, seasonality_mode='additive')\n",
    "model.fit(frame)"
   ]
  },
  {
   "cell_type": "code",
   "execution_count": 16,
   "metadata": {},
   "outputs": [
    {
     "data": {
      "text/plain": [
       "129"
      ]
     },
     "execution_count": 16,
     "metadata": {},
     "output_type": "execute_result"
    }
   ],
   "source": [
    "dates = model.make_future_dataframe(periods=12,freq='W')  # 12 ==> number of weeks\n",
    "len(dates)"
   ]
  },
  {
   "cell_type": "code",
   "execution_count": 17,
   "metadata": {},
   "outputs": [
    {
     "data": {
      "text/html": [
       "<div>\n",
       "<style scoped>\n",
       "    .dataframe tbody tr th:only-of-type {\n",
       "        vertical-align: middle;\n",
       "    }\n",
       "\n",
       "    .dataframe tbody tr th {\n",
       "        vertical-align: top;\n",
       "    }\n",
       "\n",
       "    .dataframe thead th {\n",
       "        text-align: right;\n",
       "    }\n",
       "</style>\n",
       "<table border=\"1\" class=\"dataframe\">\n",
       "  <thead>\n",
       "    <tr style=\"text-align: right;\">\n",
       "      <th></th>\n",
       "      <th>ds</th>\n",
       "      <th>yhat</th>\n",
       "      <th>yhat_lower</th>\n",
       "      <th>yhat_upper</th>\n",
       "    </tr>\n",
       "  </thead>\n",
       "  <tbody>\n",
       "    <tr>\n",
       "      <th>117</th>\n",
       "      <td>2021-11-28</td>\n",
       "      <td>1865.036994</td>\n",
       "      <td>1273.182125</td>\n",
       "      <td>2492.644843</td>\n",
       "    </tr>\n",
       "    <tr>\n",
       "      <th>118</th>\n",
       "      <td>2021-12-05</td>\n",
       "      <td>1883.295951</td>\n",
       "      <td>1224.368154</td>\n",
       "      <td>2527.249628</td>\n",
       "    </tr>\n",
       "    <tr>\n",
       "      <th>119</th>\n",
       "      <td>2021-12-12</td>\n",
       "      <td>1834.471845</td>\n",
       "      <td>1153.613694</td>\n",
       "      <td>2500.685542</td>\n",
       "    </tr>\n",
       "    <tr>\n",
       "      <th>120</th>\n",
       "      <td>2021-12-19</td>\n",
       "      <td>1807.617401</td>\n",
       "      <td>1156.893287</td>\n",
       "      <td>2422.658791</td>\n",
       "    </tr>\n",
       "    <tr>\n",
       "      <th>121</th>\n",
       "      <td>2021-12-26</td>\n",
       "      <td>1873.314259</td>\n",
       "      <td>1230.369342</td>\n",
       "      <td>2544.428954</td>\n",
       "    </tr>\n",
       "    <tr>\n",
       "      <th>122</th>\n",
       "      <td>2022-01-02</td>\n",
       "      <td>1998.142568</td>\n",
       "      <td>1391.393810</td>\n",
       "      <td>2641.568466</td>\n",
       "    </tr>\n",
       "    <tr>\n",
       "      <th>123</th>\n",
       "      <td>2022-01-09</td>\n",
       "      <td>2080.194159</td>\n",
       "      <td>1321.596276</td>\n",
       "      <td>2714.035568</td>\n",
       "    </tr>\n",
       "    <tr>\n",
       "      <th>124</th>\n",
       "      <td>2022-01-16</td>\n",
       "      <td>2064.429985</td>\n",
       "      <td>1409.749975</td>\n",
       "      <td>2673.213899</td>\n",
       "    </tr>\n",
       "    <tr>\n",
       "      <th>125</th>\n",
       "      <td>2022-01-23</td>\n",
       "      <td>2000.587979</td>\n",
       "      <td>1349.110176</td>\n",
       "      <td>2710.098543</td>\n",
       "    </tr>\n",
       "    <tr>\n",
       "      <th>126</th>\n",
       "      <td>2022-01-30</td>\n",
       "      <td>1977.562392</td>\n",
       "      <td>1296.129392</td>\n",
       "      <td>2624.069655</td>\n",
       "    </tr>\n",
       "    <tr>\n",
       "      <th>127</th>\n",
       "      <td>2022-02-06</td>\n",
       "      <td>2018.309546</td>\n",
       "      <td>1374.101396</td>\n",
       "      <td>2647.400089</td>\n",
       "    </tr>\n",
       "    <tr>\n",
       "      <th>128</th>\n",
       "      <td>2022-02-13</td>\n",
       "      <td>2063.368693</td>\n",
       "      <td>1425.201862</td>\n",
       "      <td>2698.648975</td>\n",
       "    </tr>\n",
       "  </tbody>\n",
       "</table>\n",
       "</div>"
      ],
      "text/plain": [
       "            ds         yhat   yhat_lower   yhat_upper\n",
       "117 2021-11-28  1865.036994  1273.182125  2492.644843\n",
       "118 2021-12-05  1883.295951  1224.368154  2527.249628\n",
       "119 2021-12-12  1834.471845  1153.613694  2500.685542\n",
       "120 2021-12-19  1807.617401  1156.893287  2422.658791\n",
       "121 2021-12-26  1873.314259  1230.369342  2544.428954\n",
       "122 2022-01-02  1998.142568  1391.393810  2641.568466\n",
       "123 2022-01-09  2080.194159  1321.596276  2714.035568\n",
       "124 2022-01-16  2064.429985  1409.749975  2673.213899\n",
       "125 2022-01-23  2000.587979  1349.110176  2710.098543\n",
       "126 2022-01-30  1977.562392  1296.129392  2624.069655\n",
       "127 2022-02-06  2018.309546  1374.101396  2647.400089\n",
       "128 2022-02-13  2063.368693  1425.201862  2698.648975"
      ]
     },
     "execution_count": 17,
     "metadata": {},
     "output_type": "execute_result"
    }
   ],
   "source": [
    "forecast = model.predict(dates)\n",
    "forecast[['ds', 'yhat', 'yhat_lower', 'yhat_upper']].tail(12)\n"
   ]
  },
  {
   "cell_type": "code",
   "execution_count": null,
   "metadata": {},
   "outputs": [],
   "source": [
    "plot_plotly(model, forecast)"
   ]
  },
  {
   "cell_type": "code",
   "execution_count": null,
   "metadata": {},
   "outputs": [],
   "source": [
    "plot_components_plotly(model, forecast)\n"
   ]
  }
 ],
 "metadata": {
  "kernelspec": {
   "display_name": "Python 3.8.8 ('base')",
   "language": "python",
   "name": "python3"
  },
  "language_info": {
   "codemirror_mode": {
    "name": "ipython",
    "version": 3
   },
   "file_extension": ".py",
   "mimetype": "text/x-python",
   "name": "python",
   "nbconvert_exporter": "python",
   "pygments_lexer": "ipython3",
   "version": "3.8.8"
  },
  "orig_nbformat": 4,
  "vscode": {
   "interpreter": {
    "hash": "1e48116ff4f89e0d534ee0540fe6d13684fed0fb22e90ffe48affb09802ecbdc"
   }
  }
 },
 "nbformat": 4,
 "nbformat_minor": 2
}
